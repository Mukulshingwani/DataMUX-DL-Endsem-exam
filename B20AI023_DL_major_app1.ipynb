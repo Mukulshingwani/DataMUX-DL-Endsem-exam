{
  "nbformat": 4,
  "nbformat_minor": 0,
  "metadata": {
    "colab": {
      "provenance": []
    },
    "kernelspec": {
      "name": "python3",
      "display_name": "Python 3"
    },
    "language_info": {
      "name": "python"
    },
    "accelerator": "GPU",
    "gpuClass": "standard",
    "widgets": {
      "application/vnd.jupyter.widget-state+json": {
        "97cca2683ce745f7a4ec19ebbff8f158": {
          "model_module": "@jupyter-widgets/controls",
          "model_name": "HBoxModel",
          "model_module_version": "1.5.0",
          "state": {
            "_dom_classes": [],
            "_model_module": "@jupyter-widgets/controls",
            "_model_module_version": "1.5.0",
            "_model_name": "HBoxModel",
            "_view_count": null,
            "_view_module": "@jupyter-widgets/controls",
            "_view_module_version": "1.5.0",
            "_view_name": "HBoxView",
            "box_style": "",
            "children": [
              "IPY_MODEL_def48676f5044660a9fcfea661116840",
              "IPY_MODEL_a64a102441b043db83dc1bc3a5886a8b",
              "IPY_MODEL_7b2f984abf3e4ed4ba6e3c70bddf6d5a"
            ],
            "layout": "IPY_MODEL_44e769156f124adeafaff74226992146"
          }
        },
        "def48676f5044660a9fcfea661116840": {
          "model_module": "@jupyter-widgets/controls",
          "model_name": "HTMLModel",
          "model_module_version": "1.5.0",
          "state": {
            "_dom_classes": [],
            "_model_module": "@jupyter-widgets/controls",
            "_model_module_version": "1.5.0",
            "_model_name": "HTMLModel",
            "_view_count": null,
            "_view_module": "@jupyter-widgets/controls",
            "_view_module_version": "1.5.0",
            "_view_name": "HTMLView",
            "description": "",
            "description_tooltip": null,
            "layout": "IPY_MODEL_fed734a20bb9462d83f5abba449268a5",
            "placeholder": "​",
            "style": "IPY_MODEL_69935fa974ea4c27a7f049f7d8d90cd4",
            "value": "Downloading (…)lve/main/config.json: 100%"
          }
        },
        "a64a102441b043db83dc1bc3a5886a8b": {
          "model_module": "@jupyter-widgets/controls",
          "model_name": "FloatProgressModel",
          "model_module_version": "1.5.0",
          "state": {
            "_dom_classes": [],
            "_model_module": "@jupyter-widgets/controls",
            "_model_module_version": "1.5.0",
            "_model_name": "FloatProgressModel",
            "_view_count": null,
            "_view_module": "@jupyter-widgets/controls",
            "_view_module_version": "1.5.0",
            "_view_name": "ProgressView",
            "bar_style": "success",
            "description": "",
            "description_tooltip": null,
            "layout": "IPY_MODEL_a1175d2c2262403f8159b08127e8f84a",
            "max": 615,
            "min": 0,
            "orientation": "horizontal",
            "style": "IPY_MODEL_e08765acf4a44bc2a0e892898aa2bde6",
            "value": 615
          }
        },
        "7b2f984abf3e4ed4ba6e3c70bddf6d5a": {
          "model_module": "@jupyter-widgets/controls",
          "model_name": "HTMLModel",
          "model_module_version": "1.5.0",
          "state": {
            "_dom_classes": [],
            "_model_module": "@jupyter-widgets/controls",
            "_model_module_version": "1.5.0",
            "_model_name": "HTMLModel",
            "_view_count": null,
            "_view_module": "@jupyter-widgets/controls",
            "_view_module_version": "1.5.0",
            "_view_name": "HTMLView",
            "description": "",
            "description_tooltip": null,
            "layout": "IPY_MODEL_39e292b0458b4a039f8bbea68895f11c",
            "placeholder": "​",
            "style": "IPY_MODEL_644e7966af214dcfaf532779f87c6b42",
            "value": " 615/615 [00:00&lt;00:00, 36.4kB/s]"
          }
        },
        "44e769156f124adeafaff74226992146": {
          "model_module": "@jupyter-widgets/base",
          "model_name": "LayoutModel",
          "model_module_version": "1.2.0",
          "state": {
            "_model_module": "@jupyter-widgets/base",
            "_model_module_version": "1.2.0",
            "_model_name": "LayoutModel",
            "_view_count": null,
            "_view_module": "@jupyter-widgets/base",
            "_view_module_version": "1.2.0",
            "_view_name": "LayoutView",
            "align_content": null,
            "align_items": null,
            "align_self": null,
            "border": null,
            "bottom": null,
            "display": null,
            "flex": null,
            "flex_flow": null,
            "grid_area": null,
            "grid_auto_columns": null,
            "grid_auto_flow": null,
            "grid_auto_rows": null,
            "grid_column": null,
            "grid_gap": null,
            "grid_row": null,
            "grid_template_areas": null,
            "grid_template_columns": null,
            "grid_template_rows": null,
            "height": null,
            "justify_content": null,
            "justify_items": null,
            "left": null,
            "margin": null,
            "max_height": null,
            "max_width": null,
            "min_height": null,
            "min_width": null,
            "object_fit": null,
            "object_position": null,
            "order": null,
            "overflow": null,
            "overflow_x": null,
            "overflow_y": null,
            "padding": null,
            "right": null,
            "top": null,
            "visibility": null,
            "width": null
          }
        },
        "fed734a20bb9462d83f5abba449268a5": {
          "model_module": "@jupyter-widgets/base",
          "model_name": "LayoutModel",
          "model_module_version": "1.2.0",
          "state": {
            "_model_module": "@jupyter-widgets/base",
            "_model_module_version": "1.2.0",
            "_model_name": "LayoutModel",
            "_view_count": null,
            "_view_module": "@jupyter-widgets/base",
            "_view_module_version": "1.2.0",
            "_view_name": "LayoutView",
            "align_content": null,
            "align_items": null,
            "align_self": null,
            "border": null,
            "bottom": null,
            "display": null,
            "flex": null,
            "flex_flow": null,
            "grid_area": null,
            "grid_auto_columns": null,
            "grid_auto_flow": null,
            "grid_auto_rows": null,
            "grid_column": null,
            "grid_gap": null,
            "grid_row": null,
            "grid_template_areas": null,
            "grid_template_columns": null,
            "grid_template_rows": null,
            "height": null,
            "justify_content": null,
            "justify_items": null,
            "left": null,
            "margin": null,
            "max_height": null,
            "max_width": null,
            "min_height": null,
            "min_width": null,
            "object_fit": null,
            "object_position": null,
            "order": null,
            "overflow": null,
            "overflow_x": null,
            "overflow_y": null,
            "padding": null,
            "right": null,
            "top": null,
            "visibility": null,
            "width": null
          }
        },
        "69935fa974ea4c27a7f049f7d8d90cd4": {
          "model_module": "@jupyter-widgets/controls",
          "model_name": "DescriptionStyleModel",
          "model_module_version": "1.5.0",
          "state": {
            "_model_module": "@jupyter-widgets/controls",
            "_model_module_version": "1.5.0",
            "_model_name": "DescriptionStyleModel",
            "_view_count": null,
            "_view_module": "@jupyter-widgets/base",
            "_view_module_version": "1.2.0",
            "_view_name": "StyleView",
            "description_width": ""
          }
        },
        "a1175d2c2262403f8159b08127e8f84a": {
          "model_module": "@jupyter-widgets/base",
          "model_name": "LayoutModel",
          "model_module_version": "1.2.0",
          "state": {
            "_model_module": "@jupyter-widgets/base",
            "_model_module_version": "1.2.0",
            "_model_name": "LayoutModel",
            "_view_count": null,
            "_view_module": "@jupyter-widgets/base",
            "_view_module_version": "1.2.0",
            "_view_name": "LayoutView",
            "align_content": null,
            "align_items": null,
            "align_self": null,
            "border": null,
            "bottom": null,
            "display": null,
            "flex": null,
            "flex_flow": null,
            "grid_area": null,
            "grid_auto_columns": null,
            "grid_auto_flow": null,
            "grid_auto_rows": null,
            "grid_column": null,
            "grid_gap": null,
            "grid_row": null,
            "grid_template_areas": null,
            "grid_template_columns": null,
            "grid_template_rows": null,
            "height": null,
            "justify_content": null,
            "justify_items": null,
            "left": null,
            "margin": null,
            "max_height": null,
            "max_width": null,
            "min_height": null,
            "min_width": null,
            "object_fit": null,
            "object_position": null,
            "order": null,
            "overflow": null,
            "overflow_x": null,
            "overflow_y": null,
            "padding": null,
            "right": null,
            "top": null,
            "visibility": null,
            "width": null
          }
        },
        "e08765acf4a44bc2a0e892898aa2bde6": {
          "model_module": "@jupyter-widgets/controls",
          "model_name": "ProgressStyleModel",
          "model_module_version": "1.5.0",
          "state": {
            "_model_module": "@jupyter-widgets/controls",
            "_model_module_version": "1.5.0",
            "_model_name": "ProgressStyleModel",
            "_view_count": null,
            "_view_module": "@jupyter-widgets/base",
            "_view_module_version": "1.2.0",
            "_view_name": "StyleView",
            "bar_color": null,
            "description_width": ""
          }
        },
        "39e292b0458b4a039f8bbea68895f11c": {
          "model_module": "@jupyter-widgets/base",
          "model_name": "LayoutModel",
          "model_module_version": "1.2.0",
          "state": {
            "_model_module": "@jupyter-widgets/base",
            "_model_module_version": "1.2.0",
            "_model_name": "LayoutModel",
            "_view_count": null,
            "_view_module": "@jupyter-widgets/base",
            "_view_module_version": "1.2.0",
            "_view_name": "LayoutView",
            "align_content": null,
            "align_items": null,
            "align_self": null,
            "border": null,
            "bottom": null,
            "display": null,
            "flex": null,
            "flex_flow": null,
            "grid_area": null,
            "grid_auto_columns": null,
            "grid_auto_flow": null,
            "grid_auto_rows": null,
            "grid_column": null,
            "grid_gap": null,
            "grid_row": null,
            "grid_template_areas": null,
            "grid_template_columns": null,
            "grid_template_rows": null,
            "height": null,
            "justify_content": null,
            "justify_items": null,
            "left": null,
            "margin": null,
            "max_height": null,
            "max_width": null,
            "min_height": null,
            "min_width": null,
            "object_fit": null,
            "object_position": null,
            "order": null,
            "overflow": null,
            "overflow_x": null,
            "overflow_y": null,
            "padding": null,
            "right": null,
            "top": null,
            "visibility": null,
            "width": null
          }
        },
        "644e7966af214dcfaf532779f87c6b42": {
          "model_module": "@jupyter-widgets/controls",
          "model_name": "DescriptionStyleModel",
          "model_module_version": "1.5.0",
          "state": {
            "_model_module": "@jupyter-widgets/controls",
            "_model_module_version": "1.5.0",
            "_model_name": "DescriptionStyleModel",
            "_view_count": null,
            "_view_module": "@jupyter-widgets/base",
            "_view_module_version": "1.2.0",
            "_view_name": "StyleView",
            "description_width": ""
          }
        },
        "1e260523ced748b9a7014050265872d5": {
          "model_module": "@jupyter-widgets/controls",
          "model_name": "HBoxModel",
          "model_module_version": "1.5.0",
          "state": {
            "_dom_classes": [],
            "_model_module": "@jupyter-widgets/controls",
            "_model_module_version": "1.5.0",
            "_model_name": "HBoxModel",
            "_view_count": null,
            "_view_module": "@jupyter-widgets/controls",
            "_view_module_version": "1.5.0",
            "_view_name": "HBoxView",
            "box_style": "",
            "children": [
              "IPY_MODEL_a70d6f6c2bf94779a1f0c31b0be9a892",
              "IPY_MODEL_48646efbbfd64bff9cb6fb98a27613e3",
              "IPY_MODEL_06ede73e8ef2425b99157ef3e024050c"
            ],
            "layout": "IPY_MODEL_8fde36ec143d407eb937566e79fab26d"
          }
        },
        "a70d6f6c2bf94779a1f0c31b0be9a892": {
          "model_module": "@jupyter-widgets/controls",
          "model_name": "HTMLModel",
          "model_module_version": "1.5.0",
          "state": {
            "_dom_classes": [],
            "_model_module": "@jupyter-widgets/controls",
            "_model_module_version": "1.5.0",
            "_model_name": "HTMLModel",
            "_view_count": null,
            "_view_module": "@jupyter-widgets/controls",
            "_view_module_version": "1.5.0",
            "_view_name": "HTMLView",
            "description": "",
            "description_tooltip": null,
            "layout": "IPY_MODEL_1c86fa2b873e4d12854b2cb4246500d8",
            "placeholder": "​",
            "style": "IPY_MODEL_437c5d617ca04ce788b90172aff40593",
            "value": "Downloading (…)tencepiece.bpe.model: 100%"
          }
        },
        "48646efbbfd64bff9cb6fb98a27613e3": {
          "model_module": "@jupyter-widgets/controls",
          "model_name": "FloatProgressModel",
          "model_module_version": "1.5.0",
          "state": {
            "_dom_classes": [],
            "_model_module": "@jupyter-widgets/controls",
            "_model_module_version": "1.5.0",
            "_model_name": "FloatProgressModel",
            "_view_count": null,
            "_view_module": "@jupyter-widgets/controls",
            "_view_module_version": "1.5.0",
            "_view_name": "ProgressView",
            "bar_style": "success",
            "description": "",
            "description_tooltip": null,
            "layout": "IPY_MODEL_c96158dec3de4a86b5dd297ed49c5ede",
            "max": 5069051,
            "min": 0,
            "orientation": "horizontal",
            "style": "IPY_MODEL_6098cb83879847c3bea2be3bce1c38d4",
            "value": 5069051
          }
        },
        "06ede73e8ef2425b99157ef3e024050c": {
          "model_module": "@jupyter-widgets/controls",
          "model_name": "HTMLModel",
          "model_module_version": "1.5.0",
          "state": {
            "_dom_classes": [],
            "_model_module": "@jupyter-widgets/controls",
            "_model_module_version": "1.5.0",
            "_model_name": "HTMLModel",
            "_view_count": null,
            "_view_module": "@jupyter-widgets/controls",
            "_view_module_version": "1.5.0",
            "_view_name": "HTMLView",
            "description": "",
            "description_tooltip": null,
            "layout": "IPY_MODEL_db3524c3a2204844a4a5d78b2a713405",
            "placeholder": "​",
            "style": "IPY_MODEL_1d87f278c2834ea09b28848eb1fa1a86",
            "value": " 5.07M/5.07M [00:00&lt;00:00, 44.9MB/s]"
          }
        },
        "8fde36ec143d407eb937566e79fab26d": {
          "model_module": "@jupyter-widgets/base",
          "model_name": "LayoutModel",
          "model_module_version": "1.2.0",
          "state": {
            "_model_module": "@jupyter-widgets/base",
            "_model_module_version": "1.2.0",
            "_model_name": "LayoutModel",
            "_view_count": null,
            "_view_module": "@jupyter-widgets/base",
            "_view_module_version": "1.2.0",
            "_view_name": "LayoutView",
            "align_content": null,
            "align_items": null,
            "align_self": null,
            "border": null,
            "bottom": null,
            "display": null,
            "flex": null,
            "flex_flow": null,
            "grid_area": null,
            "grid_auto_columns": null,
            "grid_auto_flow": null,
            "grid_auto_rows": null,
            "grid_column": null,
            "grid_gap": null,
            "grid_row": null,
            "grid_template_areas": null,
            "grid_template_columns": null,
            "grid_template_rows": null,
            "height": null,
            "justify_content": null,
            "justify_items": null,
            "left": null,
            "margin": null,
            "max_height": null,
            "max_width": null,
            "min_height": null,
            "min_width": null,
            "object_fit": null,
            "object_position": null,
            "order": null,
            "overflow": null,
            "overflow_x": null,
            "overflow_y": null,
            "padding": null,
            "right": null,
            "top": null,
            "visibility": null,
            "width": null
          }
        },
        "1c86fa2b873e4d12854b2cb4246500d8": {
          "model_module": "@jupyter-widgets/base",
          "model_name": "LayoutModel",
          "model_module_version": "1.2.0",
          "state": {
            "_model_module": "@jupyter-widgets/base",
            "_model_module_version": "1.2.0",
            "_model_name": "LayoutModel",
            "_view_count": null,
            "_view_module": "@jupyter-widgets/base",
            "_view_module_version": "1.2.0",
            "_view_name": "LayoutView",
            "align_content": null,
            "align_items": null,
            "align_self": null,
            "border": null,
            "bottom": null,
            "display": null,
            "flex": null,
            "flex_flow": null,
            "grid_area": null,
            "grid_auto_columns": null,
            "grid_auto_flow": null,
            "grid_auto_rows": null,
            "grid_column": null,
            "grid_gap": null,
            "grid_row": null,
            "grid_template_areas": null,
            "grid_template_columns": null,
            "grid_template_rows": null,
            "height": null,
            "justify_content": null,
            "justify_items": null,
            "left": null,
            "margin": null,
            "max_height": null,
            "max_width": null,
            "min_height": null,
            "min_width": null,
            "object_fit": null,
            "object_position": null,
            "order": null,
            "overflow": null,
            "overflow_x": null,
            "overflow_y": null,
            "padding": null,
            "right": null,
            "top": null,
            "visibility": null,
            "width": null
          }
        },
        "437c5d617ca04ce788b90172aff40593": {
          "model_module": "@jupyter-widgets/controls",
          "model_name": "DescriptionStyleModel",
          "model_module_version": "1.5.0",
          "state": {
            "_model_module": "@jupyter-widgets/controls",
            "_model_module_version": "1.5.0",
            "_model_name": "DescriptionStyleModel",
            "_view_count": null,
            "_view_module": "@jupyter-widgets/base",
            "_view_module_version": "1.2.0",
            "_view_name": "StyleView",
            "description_width": ""
          }
        },
        "c96158dec3de4a86b5dd297ed49c5ede": {
          "model_module": "@jupyter-widgets/base",
          "model_name": "LayoutModel",
          "model_module_version": "1.2.0",
          "state": {
            "_model_module": "@jupyter-widgets/base",
            "_model_module_version": "1.2.0",
            "_model_name": "LayoutModel",
            "_view_count": null,
            "_view_module": "@jupyter-widgets/base",
            "_view_module_version": "1.2.0",
            "_view_name": "LayoutView",
            "align_content": null,
            "align_items": null,
            "align_self": null,
            "border": null,
            "bottom": null,
            "display": null,
            "flex": null,
            "flex_flow": null,
            "grid_area": null,
            "grid_auto_columns": null,
            "grid_auto_flow": null,
            "grid_auto_rows": null,
            "grid_column": null,
            "grid_gap": null,
            "grid_row": null,
            "grid_template_areas": null,
            "grid_template_columns": null,
            "grid_template_rows": null,
            "height": null,
            "justify_content": null,
            "justify_items": null,
            "left": null,
            "margin": null,
            "max_height": null,
            "max_width": null,
            "min_height": null,
            "min_width": null,
            "object_fit": null,
            "object_position": null,
            "order": null,
            "overflow": null,
            "overflow_x": null,
            "overflow_y": null,
            "padding": null,
            "right": null,
            "top": null,
            "visibility": null,
            "width": null
          }
        },
        "6098cb83879847c3bea2be3bce1c38d4": {
          "model_module": "@jupyter-widgets/controls",
          "model_name": "ProgressStyleModel",
          "model_module_version": "1.5.0",
          "state": {
            "_model_module": "@jupyter-widgets/controls",
            "_model_module_version": "1.5.0",
            "_model_name": "ProgressStyleModel",
            "_view_count": null,
            "_view_module": "@jupyter-widgets/base",
            "_view_module_version": "1.2.0",
            "_view_name": "StyleView",
            "bar_color": null,
            "description_width": ""
          }
        },
        "db3524c3a2204844a4a5d78b2a713405": {
          "model_module": "@jupyter-widgets/base",
          "model_name": "LayoutModel",
          "model_module_version": "1.2.0",
          "state": {
            "_model_module": "@jupyter-widgets/base",
            "_model_module_version": "1.2.0",
            "_model_name": "LayoutModel",
            "_view_count": null,
            "_view_module": "@jupyter-widgets/base",
            "_view_module_version": "1.2.0",
            "_view_name": "LayoutView",
            "align_content": null,
            "align_items": null,
            "align_self": null,
            "border": null,
            "bottom": null,
            "display": null,
            "flex": null,
            "flex_flow": null,
            "grid_area": null,
            "grid_auto_columns": null,
            "grid_auto_flow": null,
            "grid_auto_rows": null,
            "grid_column": null,
            "grid_gap": null,
            "grid_row": null,
            "grid_template_areas": null,
            "grid_template_columns": null,
            "grid_template_rows": null,
            "height": null,
            "justify_content": null,
            "justify_items": null,
            "left": null,
            "margin": null,
            "max_height": null,
            "max_width": null,
            "min_height": null,
            "min_width": null,
            "object_fit": null,
            "object_position": null,
            "order": null,
            "overflow": null,
            "overflow_x": null,
            "overflow_y": null,
            "padding": null,
            "right": null,
            "top": null,
            "visibility": null,
            "width": null
          }
        },
        "1d87f278c2834ea09b28848eb1fa1a86": {
          "model_module": "@jupyter-widgets/controls",
          "model_name": "DescriptionStyleModel",
          "model_module_version": "1.5.0",
          "state": {
            "_model_module": "@jupyter-widgets/controls",
            "_model_module_version": "1.5.0",
            "_model_name": "DescriptionStyleModel",
            "_view_count": null,
            "_view_module": "@jupyter-widgets/base",
            "_view_module_version": "1.2.0",
            "_view_name": "StyleView",
            "description_width": ""
          }
        },
        "d0e97cd9f13a43238d4caae6ba77ec3e": {
          "model_module": "@jupyter-widgets/controls",
          "model_name": "HBoxModel",
          "model_module_version": "1.5.0",
          "state": {
            "_dom_classes": [],
            "_model_module": "@jupyter-widgets/controls",
            "_model_module_version": "1.5.0",
            "_model_name": "HBoxModel",
            "_view_count": null,
            "_view_module": "@jupyter-widgets/controls",
            "_view_module_version": "1.5.0",
            "_view_name": "HBoxView",
            "box_style": "",
            "children": [
              "IPY_MODEL_a3977f3ca9ff48ed9b611e9817b88cc3",
              "IPY_MODEL_b7649cd4f1d041feb672fbcaebbaea00",
              "IPY_MODEL_56029467bebe414f8caed256de893074"
            ],
            "layout": "IPY_MODEL_7f0a451fb8384beab7f7ffccda79ef9b"
          }
        },
        "a3977f3ca9ff48ed9b611e9817b88cc3": {
          "model_module": "@jupyter-widgets/controls",
          "model_name": "HTMLModel",
          "model_module_version": "1.5.0",
          "state": {
            "_dom_classes": [],
            "_model_module": "@jupyter-widgets/controls",
            "_model_module_version": "1.5.0",
            "_model_name": "HTMLModel",
            "_view_count": null,
            "_view_module": "@jupyter-widgets/controls",
            "_view_module_version": "1.5.0",
            "_view_name": "HTMLView",
            "description": "",
            "description_tooltip": null,
            "layout": "IPY_MODEL_474e8079634745c3ad316cef46fcbe9e",
            "placeholder": "​",
            "style": "IPY_MODEL_21f1f8b41e574595a0d65efb6442ab5c",
            "value": "Downloading (…)/main/tokenizer.json: 100%"
          }
        },
        "b7649cd4f1d041feb672fbcaebbaea00": {
          "model_module": "@jupyter-widgets/controls",
          "model_name": "FloatProgressModel",
          "model_module_version": "1.5.0",
          "state": {
            "_dom_classes": [],
            "_model_module": "@jupyter-widgets/controls",
            "_model_module_version": "1.5.0",
            "_model_name": "FloatProgressModel",
            "_view_count": null,
            "_view_module": "@jupyter-widgets/controls",
            "_view_module_version": "1.5.0",
            "_view_name": "ProgressView",
            "bar_style": "success",
            "description": "",
            "description_tooltip": null,
            "layout": "IPY_MODEL_121f8fe9a3a54afb9ea8a884b793f4d5",
            "max": 9096718,
            "min": 0,
            "orientation": "horizontal",
            "style": "IPY_MODEL_f1b34cae6fa04ea0b55010c6120cada4",
            "value": 9096718
          }
        },
        "56029467bebe414f8caed256de893074": {
          "model_module": "@jupyter-widgets/controls",
          "model_name": "HTMLModel",
          "model_module_version": "1.5.0",
          "state": {
            "_dom_classes": [],
            "_model_module": "@jupyter-widgets/controls",
            "_model_module_version": "1.5.0",
            "_model_name": "HTMLModel",
            "_view_count": null,
            "_view_module": "@jupyter-widgets/controls",
            "_view_module_version": "1.5.0",
            "_view_name": "HTMLView",
            "description": "",
            "description_tooltip": null,
            "layout": "IPY_MODEL_ccf7984f754a4c47905199db05c9ffa0",
            "placeholder": "​",
            "style": "IPY_MODEL_a45c33cb727944f3960d407f4a952c36",
            "value": " 9.10M/9.10M [00:00&lt;00:00, 120MB/s]"
          }
        },
        "7f0a451fb8384beab7f7ffccda79ef9b": {
          "model_module": "@jupyter-widgets/base",
          "model_name": "LayoutModel",
          "model_module_version": "1.2.0",
          "state": {
            "_model_module": "@jupyter-widgets/base",
            "_model_module_version": "1.2.0",
            "_model_name": "LayoutModel",
            "_view_count": null,
            "_view_module": "@jupyter-widgets/base",
            "_view_module_version": "1.2.0",
            "_view_name": "LayoutView",
            "align_content": null,
            "align_items": null,
            "align_self": null,
            "border": null,
            "bottom": null,
            "display": null,
            "flex": null,
            "flex_flow": null,
            "grid_area": null,
            "grid_auto_columns": null,
            "grid_auto_flow": null,
            "grid_auto_rows": null,
            "grid_column": null,
            "grid_gap": null,
            "grid_row": null,
            "grid_template_areas": null,
            "grid_template_columns": null,
            "grid_template_rows": null,
            "height": null,
            "justify_content": null,
            "justify_items": null,
            "left": null,
            "margin": null,
            "max_height": null,
            "max_width": null,
            "min_height": null,
            "min_width": null,
            "object_fit": null,
            "object_position": null,
            "order": null,
            "overflow": null,
            "overflow_x": null,
            "overflow_y": null,
            "padding": null,
            "right": null,
            "top": null,
            "visibility": null,
            "width": null
          }
        },
        "474e8079634745c3ad316cef46fcbe9e": {
          "model_module": "@jupyter-widgets/base",
          "model_name": "LayoutModel",
          "model_module_version": "1.2.0",
          "state": {
            "_model_module": "@jupyter-widgets/base",
            "_model_module_version": "1.2.0",
            "_model_name": "LayoutModel",
            "_view_count": null,
            "_view_module": "@jupyter-widgets/base",
            "_view_module_version": "1.2.0",
            "_view_name": "LayoutView",
            "align_content": null,
            "align_items": null,
            "align_self": null,
            "border": null,
            "bottom": null,
            "display": null,
            "flex": null,
            "flex_flow": null,
            "grid_area": null,
            "grid_auto_columns": null,
            "grid_auto_flow": null,
            "grid_auto_rows": null,
            "grid_column": null,
            "grid_gap": null,
            "grid_row": null,
            "grid_template_areas": null,
            "grid_template_columns": null,
            "grid_template_rows": null,
            "height": null,
            "justify_content": null,
            "justify_items": null,
            "left": null,
            "margin": null,
            "max_height": null,
            "max_width": null,
            "min_height": null,
            "min_width": null,
            "object_fit": null,
            "object_position": null,
            "order": null,
            "overflow": null,
            "overflow_x": null,
            "overflow_y": null,
            "padding": null,
            "right": null,
            "top": null,
            "visibility": null,
            "width": null
          }
        },
        "21f1f8b41e574595a0d65efb6442ab5c": {
          "model_module": "@jupyter-widgets/controls",
          "model_name": "DescriptionStyleModel",
          "model_module_version": "1.5.0",
          "state": {
            "_model_module": "@jupyter-widgets/controls",
            "_model_module_version": "1.5.0",
            "_model_name": "DescriptionStyleModel",
            "_view_count": null,
            "_view_module": "@jupyter-widgets/base",
            "_view_module_version": "1.2.0",
            "_view_name": "StyleView",
            "description_width": ""
          }
        },
        "121f8fe9a3a54afb9ea8a884b793f4d5": {
          "model_module": "@jupyter-widgets/base",
          "model_name": "LayoutModel",
          "model_module_version": "1.2.0",
          "state": {
            "_model_module": "@jupyter-widgets/base",
            "_model_module_version": "1.2.0",
            "_model_name": "LayoutModel",
            "_view_count": null,
            "_view_module": "@jupyter-widgets/base",
            "_view_module_version": "1.2.0",
            "_view_name": "LayoutView",
            "align_content": null,
            "align_items": null,
            "align_self": null,
            "border": null,
            "bottom": null,
            "display": null,
            "flex": null,
            "flex_flow": null,
            "grid_area": null,
            "grid_auto_columns": null,
            "grid_auto_flow": null,
            "grid_auto_rows": null,
            "grid_column": null,
            "grid_gap": null,
            "grid_row": null,
            "grid_template_areas": null,
            "grid_template_columns": null,
            "grid_template_rows": null,
            "height": null,
            "justify_content": null,
            "justify_items": null,
            "left": null,
            "margin": null,
            "max_height": null,
            "max_width": null,
            "min_height": null,
            "min_width": null,
            "object_fit": null,
            "object_position": null,
            "order": null,
            "overflow": null,
            "overflow_x": null,
            "overflow_y": null,
            "padding": null,
            "right": null,
            "top": null,
            "visibility": null,
            "width": null
          }
        },
        "f1b34cae6fa04ea0b55010c6120cada4": {
          "model_module": "@jupyter-widgets/controls",
          "model_name": "ProgressStyleModel",
          "model_module_version": "1.5.0",
          "state": {
            "_model_module": "@jupyter-widgets/controls",
            "_model_module_version": "1.5.0",
            "_model_name": "ProgressStyleModel",
            "_view_count": null,
            "_view_module": "@jupyter-widgets/base",
            "_view_module_version": "1.2.0",
            "_view_name": "StyleView",
            "bar_color": null,
            "description_width": ""
          }
        },
        "ccf7984f754a4c47905199db05c9ffa0": {
          "model_module": "@jupyter-widgets/base",
          "model_name": "LayoutModel",
          "model_module_version": "1.2.0",
          "state": {
            "_model_module": "@jupyter-widgets/base",
            "_model_module_version": "1.2.0",
            "_model_name": "LayoutModel",
            "_view_count": null,
            "_view_module": "@jupyter-widgets/base",
            "_view_module_version": "1.2.0",
            "_view_name": "LayoutView",
            "align_content": null,
            "align_items": null,
            "align_self": null,
            "border": null,
            "bottom": null,
            "display": null,
            "flex": null,
            "flex_flow": null,
            "grid_area": null,
            "grid_auto_columns": null,
            "grid_auto_flow": null,
            "grid_auto_rows": null,
            "grid_column": null,
            "grid_gap": null,
            "grid_row": null,
            "grid_template_areas": null,
            "grid_template_columns": null,
            "grid_template_rows": null,
            "height": null,
            "justify_content": null,
            "justify_items": null,
            "left": null,
            "margin": null,
            "max_height": null,
            "max_width": null,
            "min_height": null,
            "min_width": null,
            "object_fit": null,
            "object_position": null,
            "order": null,
            "overflow": null,
            "overflow_x": null,
            "overflow_y": null,
            "padding": null,
            "right": null,
            "top": null,
            "visibility": null,
            "width": null
          }
        },
        "a45c33cb727944f3960d407f4a952c36": {
          "model_module": "@jupyter-widgets/controls",
          "model_name": "DescriptionStyleModel",
          "model_module_version": "1.5.0",
          "state": {
            "_model_module": "@jupyter-widgets/controls",
            "_model_module_version": "1.5.0",
            "_model_name": "DescriptionStyleModel",
            "_view_count": null,
            "_view_module": "@jupyter-widgets/base",
            "_view_module_version": "1.2.0",
            "_view_name": "StyleView",
            "description_width": ""
          }
        },
        "1efc6739dc3d447fa4a8497fe1c0da0e": {
          "model_module": "@jupyter-widgets/controls",
          "model_name": "HBoxModel",
          "model_module_version": "1.5.0",
          "state": {
            "_dom_classes": [],
            "_model_module": "@jupyter-widgets/controls",
            "_model_module_version": "1.5.0",
            "_model_name": "HBoxModel",
            "_view_count": null,
            "_view_module": "@jupyter-widgets/controls",
            "_view_module_version": "1.5.0",
            "_view_name": "HBoxView",
            "box_style": "",
            "children": [
              "IPY_MODEL_3c672983f891428ba156e30453c50d91",
              "IPY_MODEL_b7fc0ca9fe524167bc6988e56aa3d218",
              "IPY_MODEL_718bd2ae672e4b71af0148f5f27e8328"
            ],
            "layout": "IPY_MODEL_7d26253ee81a4dcb968f0cd14ad4bdbd"
          }
        },
        "3c672983f891428ba156e30453c50d91": {
          "model_module": "@jupyter-widgets/controls",
          "model_name": "HTMLModel",
          "model_module_version": "1.5.0",
          "state": {
            "_dom_classes": [],
            "_model_module": "@jupyter-widgets/controls",
            "_model_module_version": "1.5.0",
            "_model_name": "HTMLModel",
            "_view_count": null,
            "_view_module": "@jupyter-widgets/controls",
            "_view_module_version": "1.5.0",
            "_view_name": "HTMLView",
            "description": "",
            "description_tooltip": null,
            "layout": "IPY_MODEL_fc41a95e22fd4d5da398f9dab9b47d96",
            "placeholder": "​",
            "style": "IPY_MODEL_e8cf7e0775a74e71875243240d51df9a",
            "value": "Downloading pytorch_model.bin: 100%"
          }
        },
        "b7fc0ca9fe524167bc6988e56aa3d218": {
          "model_module": "@jupyter-widgets/controls",
          "model_name": "FloatProgressModel",
          "model_module_version": "1.5.0",
          "state": {
            "_dom_classes": [],
            "_model_module": "@jupyter-widgets/controls",
            "_model_module_version": "1.5.0",
            "_model_name": "FloatProgressModel",
            "_view_count": null,
            "_view_module": "@jupyter-widgets/controls",
            "_view_module_version": "1.5.0",
            "_view_name": "ProgressView",
            "bar_style": "success",
            "description": "",
            "description_tooltip": null,
            "layout": "IPY_MODEL_985891ae33e54e14a0ca1c8c876a9b8b",
            "max": 1115590446,
            "min": 0,
            "orientation": "horizontal",
            "style": "IPY_MODEL_6f7ea8352345484e8a89284267a7a505",
            "value": 1115590446
          }
        },
        "718bd2ae672e4b71af0148f5f27e8328": {
          "model_module": "@jupyter-widgets/controls",
          "model_name": "HTMLModel",
          "model_module_version": "1.5.0",
          "state": {
            "_dom_classes": [],
            "_model_module": "@jupyter-widgets/controls",
            "_model_module_version": "1.5.0",
            "_model_name": "HTMLModel",
            "_view_count": null,
            "_view_module": "@jupyter-widgets/controls",
            "_view_module_version": "1.5.0",
            "_view_name": "HTMLView",
            "description": "",
            "description_tooltip": null,
            "layout": "IPY_MODEL_2115f887d63e40d99b66d06934144a75",
            "placeholder": "​",
            "style": "IPY_MODEL_766d871618ff450aadd1c154df217b23",
            "value": " 1.12G/1.12G [00:11&lt;00:00, 89.6MB/s]"
          }
        },
        "7d26253ee81a4dcb968f0cd14ad4bdbd": {
          "model_module": "@jupyter-widgets/base",
          "model_name": "LayoutModel",
          "model_module_version": "1.2.0",
          "state": {
            "_model_module": "@jupyter-widgets/base",
            "_model_module_version": "1.2.0",
            "_model_name": "LayoutModel",
            "_view_count": null,
            "_view_module": "@jupyter-widgets/base",
            "_view_module_version": "1.2.0",
            "_view_name": "LayoutView",
            "align_content": null,
            "align_items": null,
            "align_self": null,
            "border": null,
            "bottom": null,
            "display": null,
            "flex": null,
            "flex_flow": null,
            "grid_area": null,
            "grid_auto_columns": null,
            "grid_auto_flow": null,
            "grid_auto_rows": null,
            "grid_column": null,
            "grid_gap": null,
            "grid_row": null,
            "grid_template_areas": null,
            "grid_template_columns": null,
            "grid_template_rows": null,
            "height": null,
            "justify_content": null,
            "justify_items": null,
            "left": null,
            "margin": null,
            "max_height": null,
            "max_width": null,
            "min_height": null,
            "min_width": null,
            "object_fit": null,
            "object_position": null,
            "order": null,
            "overflow": null,
            "overflow_x": null,
            "overflow_y": null,
            "padding": null,
            "right": null,
            "top": null,
            "visibility": null,
            "width": null
          }
        },
        "fc41a95e22fd4d5da398f9dab9b47d96": {
          "model_module": "@jupyter-widgets/base",
          "model_name": "LayoutModel",
          "model_module_version": "1.2.0",
          "state": {
            "_model_module": "@jupyter-widgets/base",
            "_model_module_version": "1.2.0",
            "_model_name": "LayoutModel",
            "_view_count": null,
            "_view_module": "@jupyter-widgets/base",
            "_view_module_version": "1.2.0",
            "_view_name": "LayoutView",
            "align_content": null,
            "align_items": null,
            "align_self": null,
            "border": null,
            "bottom": null,
            "display": null,
            "flex": null,
            "flex_flow": null,
            "grid_area": null,
            "grid_auto_columns": null,
            "grid_auto_flow": null,
            "grid_auto_rows": null,
            "grid_column": null,
            "grid_gap": null,
            "grid_row": null,
            "grid_template_areas": null,
            "grid_template_columns": null,
            "grid_template_rows": null,
            "height": null,
            "justify_content": null,
            "justify_items": null,
            "left": null,
            "margin": null,
            "max_height": null,
            "max_width": null,
            "min_height": null,
            "min_width": null,
            "object_fit": null,
            "object_position": null,
            "order": null,
            "overflow": null,
            "overflow_x": null,
            "overflow_y": null,
            "padding": null,
            "right": null,
            "top": null,
            "visibility": null,
            "width": null
          }
        },
        "e8cf7e0775a74e71875243240d51df9a": {
          "model_module": "@jupyter-widgets/controls",
          "model_name": "DescriptionStyleModel",
          "model_module_version": "1.5.0",
          "state": {
            "_model_module": "@jupyter-widgets/controls",
            "_model_module_version": "1.5.0",
            "_model_name": "DescriptionStyleModel",
            "_view_count": null,
            "_view_module": "@jupyter-widgets/base",
            "_view_module_version": "1.2.0",
            "_view_name": "StyleView",
            "description_width": ""
          }
        },
        "985891ae33e54e14a0ca1c8c876a9b8b": {
          "model_module": "@jupyter-widgets/base",
          "model_name": "LayoutModel",
          "model_module_version": "1.2.0",
          "state": {
            "_model_module": "@jupyter-widgets/base",
            "_model_module_version": "1.2.0",
            "_model_name": "LayoutModel",
            "_view_count": null,
            "_view_module": "@jupyter-widgets/base",
            "_view_module_version": "1.2.0",
            "_view_name": "LayoutView",
            "align_content": null,
            "align_items": null,
            "align_self": null,
            "border": null,
            "bottom": null,
            "display": null,
            "flex": null,
            "flex_flow": null,
            "grid_area": null,
            "grid_auto_columns": null,
            "grid_auto_flow": null,
            "grid_auto_rows": null,
            "grid_column": null,
            "grid_gap": null,
            "grid_row": null,
            "grid_template_areas": null,
            "grid_template_columns": null,
            "grid_template_rows": null,
            "height": null,
            "justify_content": null,
            "justify_items": null,
            "left": null,
            "margin": null,
            "max_height": null,
            "max_width": null,
            "min_height": null,
            "min_width": null,
            "object_fit": null,
            "object_position": null,
            "order": null,
            "overflow": null,
            "overflow_x": null,
            "overflow_y": null,
            "padding": null,
            "right": null,
            "top": null,
            "visibility": null,
            "width": null
          }
        },
        "6f7ea8352345484e8a89284267a7a505": {
          "model_module": "@jupyter-widgets/controls",
          "model_name": "ProgressStyleModel",
          "model_module_version": "1.5.0",
          "state": {
            "_model_module": "@jupyter-widgets/controls",
            "_model_module_version": "1.5.0",
            "_model_name": "ProgressStyleModel",
            "_view_count": null,
            "_view_module": "@jupyter-widgets/base",
            "_view_module_version": "1.2.0",
            "_view_name": "StyleView",
            "bar_color": null,
            "description_width": ""
          }
        },
        "2115f887d63e40d99b66d06934144a75": {
          "model_module": "@jupyter-widgets/base",
          "model_name": "LayoutModel",
          "model_module_version": "1.2.0",
          "state": {
            "_model_module": "@jupyter-widgets/base",
            "_model_module_version": "1.2.0",
            "_model_name": "LayoutModel",
            "_view_count": null,
            "_view_module": "@jupyter-widgets/base",
            "_view_module_version": "1.2.0",
            "_view_name": "LayoutView",
            "align_content": null,
            "align_items": null,
            "align_self": null,
            "border": null,
            "bottom": null,
            "display": null,
            "flex": null,
            "flex_flow": null,
            "grid_area": null,
            "grid_auto_columns": null,
            "grid_auto_flow": null,
            "grid_auto_rows": null,
            "grid_column": null,
            "grid_gap": null,
            "grid_row": null,
            "grid_template_areas": null,
            "grid_template_columns": null,
            "grid_template_rows": null,
            "height": null,
            "justify_content": null,
            "justify_items": null,
            "left": null,
            "margin": null,
            "max_height": null,
            "max_width": null,
            "min_height": null,
            "min_width": null,
            "object_fit": null,
            "object_position": null,
            "order": null,
            "overflow": null,
            "overflow_x": null,
            "overflow_y": null,
            "padding": null,
            "right": null,
            "top": null,
            "visibility": null,
            "width": null
          }
        },
        "766d871618ff450aadd1c154df217b23": {
          "model_module": "@jupyter-widgets/controls",
          "model_name": "DescriptionStyleModel",
          "model_module_version": "1.5.0",
          "state": {
            "_model_module": "@jupyter-widgets/controls",
            "_model_module_version": "1.5.0",
            "_model_name": "DescriptionStyleModel",
            "_view_count": null,
            "_view_module": "@jupyter-widgets/base",
            "_view_module_version": "1.2.0",
            "_view_name": "StyleView",
            "description_width": ""
          }
        }
      }
    }
  },
  "cells": [
    {
      "cell_type": "markdown",
      "source": [
        "# Multi label classification"
      ],
      "metadata": {
        "id": "MepW2MSF0hub"
      }
    },
    {
      "cell_type": "code",
      "source": [
        "from google.colab import drive\n",
        "drive.mount('/content/drive')"
      ],
      "metadata": {
        "colab": {
          "base_uri": "https://localhost:8080/"
        },
        "id": "WQJJb0MmpSzq",
        "outputId": "974914ca-9264-4335-86eb-e5ea4134f322"
      },
      "execution_count": null,
      "outputs": [
        {
          "output_type": "stream",
          "name": "stdout",
          "text": [
            "Mounted at /content/drive\n"
          ]
        }
      ]
    },
    {
      "cell_type": "code",
      "source": [
        "pip install transformers"
      ],
      "metadata": {
        "id": "yDX-OAsiov75",
        "colab": {
          "base_uri": "https://localhost:8080/"
        },
        "outputId": "4c526f43-1ed3-4aa1-df90-6093f767a16e"
      },
      "execution_count": null,
      "outputs": [
        {
          "output_type": "stream",
          "name": "stdout",
          "text": [
            "Looking in indexes: https://pypi.org/simple, https://us-python.pkg.dev/colab-wheels/public/simple/\n",
            "Collecting transformers\n",
            "  Downloading transformers-4.28.1-py3-none-any.whl (7.0 MB)\n",
            "\u001b[2K     \u001b[90m━━━━━━━━━━━━━━━━━━━━━━━━━━━━━━━━━━━━━━━━\u001b[0m \u001b[32m7.0/7.0 MB\u001b[0m \u001b[31m40.9 MB/s\u001b[0m eta \u001b[36m0:00:00\u001b[0m\n",
            "\u001b[?25hRequirement already satisfied: pyyaml>=5.1 in /usr/local/lib/python3.10/dist-packages (from transformers) (6.0)\n",
            "Requirement already satisfied: requests in /usr/local/lib/python3.10/dist-packages (from transformers) (2.27.1)\n",
            "Requirement already satisfied: numpy>=1.17 in /usr/local/lib/python3.10/dist-packages (from transformers) (1.22.4)\n",
            "Collecting huggingface-hub<1.0,>=0.11.0\n",
            "  Downloading huggingface_hub-0.14.1-py3-none-any.whl (224 kB)\n",
            "\u001b[2K     \u001b[90m━━━━━━━━━━━━━━━━━━━━━━━━━━━━━━━━━━━━━━\u001b[0m \u001b[32m224.5/224.5 kB\u001b[0m \u001b[31m17.3 MB/s\u001b[0m eta \u001b[36m0:00:00\u001b[0m\n",
            "\u001b[?25hCollecting tokenizers!=0.11.3,<0.14,>=0.11.1\n",
            "  Downloading tokenizers-0.13.3-cp310-cp310-manylinux_2_17_x86_64.manylinux2014_x86_64.whl (7.8 MB)\n",
            "\u001b[2K     \u001b[90m━━━━━━━━━━━━━━━━━━━━━━━━━━━━━━━━━━━━━━━━\u001b[0m \u001b[32m7.8/7.8 MB\u001b[0m \u001b[31m61.3 MB/s\u001b[0m eta \u001b[36m0:00:00\u001b[0m\n",
            "\u001b[?25hRequirement already satisfied: packaging>=20.0 in /usr/local/lib/python3.10/dist-packages (from transformers) (23.1)\n",
            "Requirement already satisfied: tqdm>=4.27 in /usr/local/lib/python3.10/dist-packages (from transformers) (4.65.0)\n",
            "Requirement already satisfied: regex!=2019.12.17 in /usr/local/lib/python3.10/dist-packages (from transformers) (2022.10.31)\n",
            "Requirement already satisfied: filelock in /usr/local/lib/python3.10/dist-packages (from transformers) (3.12.0)\n",
            "Requirement already satisfied: typing-extensions>=3.7.4.3 in /usr/local/lib/python3.10/dist-packages (from huggingface-hub<1.0,>=0.11.0->transformers) (4.5.0)\n",
            "Requirement already satisfied: fsspec in /usr/local/lib/python3.10/dist-packages (from huggingface-hub<1.0,>=0.11.0->transformers) (2023.4.0)\n",
            "Requirement already satisfied: urllib3<1.27,>=1.21.1 in /usr/local/lib/python3.10/dist-packages (from requests->transformers) (1.26.15)\n",
            "Requirement already satisfied: charset-normalizer~=2.0.0 in /usr/local/lib/python3.10/dist-packages (from requests->transformers) (2.0.12)\n",
            "Requirement already satisfied: certifi>=2017.4.17 in /usr/local/lib/python3.10/dist-packages (from requests->transformers) (2022.12.7)\n",
            "Requirement already satisfied: idna<4,>=2.5 in /usr/local/lib/python3.10/dist-packages (from requests->transformers) (3.4)\n",
            "Installing collected packages: tokenizers, huggingface-hub, transformers\n",
            "Successfully installed huggingface-hub-0.14.1 tokenizers-0.13.3 transformers-4.28.1\n"
          ]
        }
      ]
    },
    {
      "cell_type": "code",
      "source": [
        "from tqdm import tqdm\n",
        "\n",
        "import torch\n",
        "from torch import nn\n",
        "from torch.utils.data import Dataset, DataLoader\n",
        "import pandas as pd\n",
        "import numpy as np\n",
        "import matplotlib.pyplot as plt\n",
        "from transformers import AutoModel, AutoTokenizer"
      ],
      "metadata": {
        "id": "oaQ-8VeH34xt"
      },
      "execution_count": null,
      "outputs": []
    },
    {
      "cell_type": "code",
      "source": [
        "device = 'cuda' if torch.cuda.is_available() else 'cpu'\n",
        "device"
      ],
      "metadata": {
        "id": "bkS7v6FUokP5",
        "colab": {
          "base_uri": "https://localhost:8080/",
          "height": 34
        },
        "outputId": "7ce61ad3-407e-4c5f-d9be-a3dbde641972"
      },
      "execution_count": null,
      "outputs": [
        {
          "output_type": "execute_result",
          "data": {
            "text/plain": [
              "'cuda'"
            ],
            "application/vnd.google.colaboratory.intrinsic+json": {
              "type": "string"
            }
          },
          "metadata": {},
          "execution_count": 4
        }
      ]
    },
    {
      "cell_type": "code",
      "source": [
        "train_data_path = '/content/drive/MyDrive/Deep Learning/DL_major/train.csv'"
      ],
      "metadata": {
        "id": "nuiVUJ8mpQ-K"
      },
      "execution_count": null,
      "outputs": []
    },
    {
      "cell_type": "code",
      "source": [
        "train_data_csv = pd.read_csv(train_data_path)\n",
        "train_data_csv.head()"
      ],
      "metadata": {
        "colab": {
          "base_uri": "https://localhost:8080/",
          "height": 201
        },
        "id": "VCjJtWeFpO3e",
        "outputId": "4300db71-3887-4b40-cb6a-8df871595db0"
      },
      "execution_count": null,
      "outputs": [
        {
          "output_type": "execute_result",
          "data": {
            "text/plain": [
              "   ID                                              TITLE  \\\n",
              "0   1        Reconstructing Subject-Specific Effect Maps   \n",
              "1   2                 Rotation Invariance Neural Network   \n",
              "2   3  Spherical polyharmonics and Poisson kernels fo...   \n",
              "3   4  A finite element approximation for the stochas...   \n",
              "4   5  Comparative study of Discrete Wavelet Transfor...   \n",
              "\n",
              "                                            ABSTRACT  Computer Science  \\\n",
              "0    Predictive models allow subject-specific inf...                 1   \n",
              "1    Rotation invariance and translation invarian...                 1   \n",
              "2    We introduce and develop the notion of spher...                 0   \n",
              "3    The stochastic Landau--Lifshitz--Gilbert (LL...                 0   \n",
              "4    Fourier-transform infra-red (FTIR) spectra o...                 1   \n",
              "\n",
              "   Physics  Mathematics  Statistics  Quantitative Biology  \\\n",
              "0        0            0           0                     0   \n",
              "1        0            0           0                     0   \n",
              "2        0            1           0                     0   \n",
              "3        0            1           0                     0   \n",
              "4        0            0           1                     0   \n",
              "\n",
              "   Quantitative Finance  \n",
              "0                     0  \n",
              "1                     0  \n",
              "2                     0  \n",
              "3                     0  \n",
              "4                     0  "
            ],
            "text/html": [
              "\n",
              "  <div id=\"df-80fe7607-7226-41d3-b314-84f6ed64cb34\">\n",
              "    <div class=\"colab-df-container\">\n",
              "      <div>\n",
              "<style scoped>\n",
              "    .dataframe tbody tr th:only-of-type {\n",
              "        vertical-align: middle;\n",
              "    }\n",
              "\n",
              "    .dataframe tbody tr th {\n",
              "        vertical-align: top;\n",
              "    }\n",
              "\n",
              "    .dataframe thead th {\n",
              "        text-align: right;\n",
              "    }\n",
              "</style>\n",
              "<table border=\"1\" class=\"dataframe\">\n",
              "  <thead>\n",
              "    <tr style=\"text-align: right;\">\n",
              "      <th></th>\n",
              "      <th>ID</th>\n",
              "      <th>TITLE</th>\n",
              "      <th>ABSTRACT</th>\n",
              "      <th>Computer Science</th>\n",
              "      <th>Physics</th>\n",
              "      <th>Mathematics</th>\n",
              "      <th>Statistics</th>\n",
              "      <th>Quantitative Biology</th>\n",
              "      <th>Quantitative Finance</th>\n",
              "    </tr>\n",
              "  </thead>\n",
              "  <tbody>\n",
              "    <tr>\n",
              "      <th>0</th>\n",
              "      <td>1</td>\n",
              "      <td>Reconstructing Subject-Specific Effect Maps</td>\n",
              "      <td>Predictive models allow subject-specific inf...</td>\n",
              "      <td>1</td>\n",
              "      <td>0</td>\n",
              "      <td>0</td>\n",
              "      <td>0</td>\n",
              "      <td>0</td>\n",
              "      <td>0</td>\n",
              "    </tr>\n",
              "    <tr>\n",
              "      <th>1</th>\n",
              "      <td>2</td>\n",
              "      <td>Rotation Invariance Neural Network</td>\n",
              "      <td>Rotation invariance and translation invarian...</td>\n",
              "      <td>1</td>\n",
              "      <td>0</td>\n",
              "      <td>0</td>\n",
              "      <td>0</td>\n",
              "      <td>0</td>\n",
              "      <td>0</td>\n",
              "    </tr>\n",
              "    <tr>\n",
              "      <th>2</th>\n",
              "      <td>3</td>\n",
              "      <td>Spherical polyharmonics and Poisson kernels fo...</td>\n",
              "      <td>We introduce and develop the notion of spher...</td>\n",
              "      <td>0</td>\n",
              "      <td>0</td>\n",
              "      <td>1</td>\n",
              "      <td>0</td>\n",
              "      <td>0</td>\n",
              "      <td>0</td>\n",
              "    </tr>\n",
              "    <tr>\n",
              "      <th>3</th>\n",
              "      <td>4</td>\n",
              "      <td>A finite element approximation for the stochas...</td>\n",
              "      <td>The stochastic Landau--Lifshitz--Gilbert (LL...</td>\n",
              "      <td>0</td>\n",
              "      <td>0</td>\n",
              "      <td>1</td>\n",
              "      <td>0</td>\n",
              "      <td>0</td>\n",
              "      <td>0</td>\n",
              "    </tr>\n",
              "    <tr>\n",
              "      <th>4</th>\n",
              "      <td>5</td>\n",
              "      <td>Comparative study of Discrete Wavelet Transfor...</td>\n",
              "      <td>Fourier-transform infra-red (FTIR) spectra o...</td>\n",
              "      <td>1</td>\n",
              "      <td>0</td>\n",
              "      <td>0</td>\n",
              "      <td>1</td>\n",
              "      <td>0</td>\n",
              "      <td>0</td>\n",
              "    </tr>\n",
              "  </tbody>\n",
              "</table>\n",
              "</div>\n",
              "      <button class=\"colab-df-convert\" onclick=\"convertToInteractive('df-80fe7607-7226-41d3-b314-84f6ed64cb34')\"\n",
              "              title=\"Convert this dataframe to an interactive table.\"\n",
              "              style=\"display:none;\">\n",
              "        \n",
              "  <svg xmlns=\"http://www.w3.org/2000/svg\" height=\"24px\"viewBox=\"0 0 24 24\"\n",
              "       width=\"24px\">\n",
              "    <path d=\"M0 0h24v24H0V0z\" fill=\"none\"/>\n",
              "    <path d=\"M18.56 5.44l.94 2.06.94-2.06 2.06-.94-2.06-.94-.94-2.06-.94 2.06-2.06.94zm-11 1L8.5 8.5l.94-2.06 2.06-.94-2.06-.94L8.5 2.5l-.94 2.06-2.06.94zm10 10l.94 2.06.94-2.06 2.06-.94-2.06-.94-.94-2.06-.94 2.06-2.06.94z\"/><path d=\"M17.41 7.96l-1.37-1.37c-.4-.4-.92-.59-1.43-.59-.52 0-1.04.2-1.43.59L10.3 9.45l-7.72 7.72c-.78.78-.78 2.05 0 2.83L4 21.41c.39.39.9.59 1.41.59.51 0 1.02-.2 1.41-.59l7.78-7.78 2.81-2.81c.8-.78.8-2.07 0-2.86zM5.41 20L4 18.59l7.72-7.72 1.47 1.35L5.41 20z\"/>\n",
              "  </svg>\n",
              "      </button>\n",
              "      \n",
              "  <style>\n",
              "    .colab-df-container {\n",
              "      display:flex;\n",
              "      flex-wrap:wrap;\n",
              "      gap: 12px;\n",
              "    }\n",
              "\n",
              "    .colab-df-convert {\n",
              "      background-color: #E8F0FE;\n",
              "      border: none;\n",
              "      border-radius: 50%;\n",
              "      cursor: pointer;\n",
              "      display: none;\n",
              "      fill: #1967D2;\n",
              "      height: 32px;\n",
              "      padding: 0 0 0 0;\n",
              "      width: 32px;\n",
              "    }\n",
              "\n",
              "    .colab-df-convert:hover {\n",
              "      background-color: #E2EBFA;\n",
              "      box-shadow: 0px 1px 2px rgba(60, 64, 67, 0.3), 0px 1px 3px 1px rgba(60, 64, 67, 0.15);\n",
              "      fill: #174EA6;\n",
              "    }\n",
              "\n",
              "    [theme=dark] .colab-df-convert {\n",
              "      background-color: #3B4455;\n",
              "      fill: #D2E3FC;\n",
              "    }\n",
              "\n",
              "    [theme=dark] .colab-df-convert:hover {\n",
              "      background-color: #434B5C;\n",
              "      box-shadow: 0px 1px 3px 1px rgba(0, 0, 0, 0.15);\n",
              "      filter: drop-shadow(0px 1px 2px rgba(0, 0, 0, 0.3));\n",
              "      fill: #FFFFFF;\n",
              "    }\n",
              "  </style>\n",
              "\n",
              "      <script>\n",
              "        const buttonEl =\n",
              "          document.querySelector('#df-80fe7607-7226-41d3-b314-84f6ed64cb34 button.colab-df-convert');\n",
              "        buttonEl.style.display =\n",
              "          google.colab.kernel.accessAllowed ? 'block' : 'none';\n",
              "\n",
              "        async function convertToInteractive(key) {\n",
              "          const element = document.querySelector('#df-80fe7607-7226-41d3-b314-84f6ed64cb34');\n",
              "          const dataTable =\n",
              "            await google.colab.kernel.invokeFunction('convertToInteractive',\n",
              "                                                     [key], {});\n",
              "          if (!dataTable) return;\n",
              "\n",
              "          const docLinkHtml = 'Like what you see? Visit the ' +\n",
              "            '<a target=\"_blank\" href=https://colab.research.google.com/notebooks/data_table.ipynb>data table notebook</a>'\n",
              "            + ' to learn more about interactive tables.';\n",
              "          element.innerHTML = '';\n",
              "          dataTable['output_type'] = 'display_data';\n",
              "          await google.colab.output.renderOutput(dataTable, element);\n",
              "          const docLink = document.createElement('div');\n",
              "          docLink.innerHTML = docLinkHtml;\n",
              "          element.appendChild(docLink);\n",
              "        }\n",
              "      </script>\n",
              "    </div>\n",
              "  </div>\n",
              "  "
            ]
          },
          "metadata": {},
          "execution_count": 8
        }
      ]
    },
    {
      "cell_type": "code",
      "source": [
        "train_data_csv['TITLE'].str.split().map(lambda x: len(x)).max()"
      ],
      "metadata": {
        "colab": {
          "base_uri": "https://localhost:8080/"
        },
        "id": "Ljbzr_SypkAr",
        "outputId": "2135e6f5-d6a4-4847-d536-2fac14680763"
      },
      "execution_count": null,
      "outputs": [
        {
          "output_type": "execute_result",
          "data": {
            "text/plain": [
              "40"
            ]
          },
          "metadata": {},
          "execution_count": 9
        }
      ]
    },
    {
      "cell_type": "code",
      "source": [
        "max_title_len = train_data_csv['TITLE'].str.split().map(lambda x: len(x)).max()\n",
        "max_abstract_len = train_data_csv['ABSTRACT'].str.split().map(lambda x: len(x)).max()\n",
        "\n",
        "extra_tokens = 20"
      ],
      "metadata": {
        "id": "N8wI864wpoRX"
      },
      "execution_count": null,
      "outputs": []
    },
    {
      "cell_type": "markdown",
      "source": [
        "## using their pretrained models\n",
        "https://huggingface.co/princeton-nlp"
      ],
      "metadata": {
        "id": "XgPEOzsx0aES"
      }
    },
    {
      "cell_type": "code",
      "source": [
        "tokenizer = AutoTokenizer.from_pretrained('xlm-roberta-base')\n",
        "# Load the tokenizer and model\n",
        "# tokenizer = RobertaTokenizer.from_pretrained(\"princeton-nlp/mabel-roberta-base\")\n",
        "# model = RobertaModel.from_pretrained(\"princeton-nlp/mabel-roberta-base\")"
      ],
      "metadata": {
        "colab": {
          "base_uri": "https://localhost:8080/",
          "height": 112,
          "referenced_widgets": [
            "97cca2683ce745f7a4ec19ebbff8f158",
            "def48676f5044660a9fcfea661116840",
            "a64a102441b043db83dc1bc3a5886a8b",
            "7b2f984abf3e4ed4ba6e3c70bddf6d5a",
            "44e769156f124adeafaff74226992146",
            "fed734a20bb9462d83f5abba449268a5",
            "69935fa974ea4c27a7f049f7d8d90cd4",
            "a1175d2c2262403f8159b08127e8f84a",
            "e08765acf4a44bc2a0e892898aa2bde6",
            "39e292b0458b4a039f8bbea68895f11c",
            "644e7966af214dcfaf532779f87c6b42",
            "1e260523ced748b9a7014050265872d5",
            "a70d6f6c2bf94779a1f0c31b0be9a892",
            "48646efbbfd64bff9cb6fb98a27613e3",
            "06ede73e8ef2425b99157ef3e024050c",
            "8fde36ec143d407eb937566e79fab26d",
            "1c86fa2b873e4d12854b2cb4246500d8",
            "437c5d617ca04ce788b90172aff40593",
            "c96158dec3de4a86b5dd297ed49c5ede",
            "6098cb83879847c3bea2be3bce1c38d4",
            "db3524c3a2204844a4a5d78b2a713405",
            "1d87f278c2834ea09b28848eb1fa1a86",
            "d0e97cd9f13a43238d4caae6ba77ec3e",
            "a3977f3ca9ff48ed9b611e9817b88cc3",
            "b7649cd4f1d041feb672fbcaebbaea00",
            "56029467bebe414f8caed256de893074",
            "7f0a451fb8384beab7f7ffccda79ef9b",
            "474e8079634745c3ad316cef46fcbe9e",
            "21f1f8b41e574595a0d65efb6442ab5c",
            "121f8fe9a3a54afb9ea8a884b793f4d5",
            "f1b34cae6fa04ea0b55010c6120cada4",
            "ccf7984f754a4c47905199db05c9ffa0",
            "a45c33cb727944f3960d407f4a952c36"
          ]
        },
        "id": "5HO0Gk87pq6p",
        "outputId": "d2dafeaa-67d7-4c58-9027-2e9e47a56656"
      },
      "execution_count": null,
      "outputs": [
        {
          "output_type": "display_data",
          "data": {
            "text/plain": [
              "Downloading (…)lve/main/config.json:   0%|          | 0.00/615 [00:00<?, ?B/s]"
            ],
            "application/vnd.jupyter.widget-view+json": {
              "version_major": 2,
              "version_minor": 0,
              "model_id": "97cca2683ce745f7a4ec19ebbff8f158"
            }
          },
          "metadata": {}
        },
        {
          "output_type": "display_data",
          "data": {
            "text/plain": [
              "Downloading (…)tencepiece.bpe.model:   0%|          | 0.00/5.07M [00:00<?, ?B/s]"
            ],
            "application/vnd.jupyter.widget-view+json": {
              "version_major": 2,
              "version_minor": 0,
              "model_id": "1e260523ced748b9a7014050265872d5"
            }
          },
          "metadata": {}
        },
        {
          "output_type": "display_data",
          "data": {
            "text/plain": [
              "Downloading (…)/main/tokenizer.json:   0%|          | 0.00/9.10M [00:00<?, ?B/s]"
            ],
            "application/vnd.jupyter.widget-view+json": {
              "version_major": 2,
              "version_minor": 0,
              "model_id": "d0e97cd9f13a43238d4caae6ba77ec3e"
            }
          },
          "metadata": {}
        }
      ]
    },
    {
      "cell_type": "code",
      "source": [
        "title_tokens = tokenizer(train_data_csv['TITLE'].values.tolist(),\n",
        "                         padding=True,\n",
        "                         truncation=True,\n",
        "                         max_length=max_title_len + extra_tokens,\n",
        "                         return_tensors='pt')['input_ids']\n",
        "\n",
        "abstract_tokens = tokenizer(train_data_csv['ABSTRACT'].values.tolist(),\n",
        "                         padding=True,\n",
        "                         truncation=True,\n",
        "                         max_length=max_abstract_len + extra_tokens,\n",
        "                         return_tensors='pt')['input_ids']"
      ],
      "metadata": {
        "id": "aSC5o5NxpsjS"
      },
      "execution_count": null,
      "outputs": []
    },
    {
      "cell_type": "markdown",
      "source": [
        "### custom class for creating the dataset"
      ],
      "metadata": {
        "id": "7vXRTRto08uO"
      }
    },
    {
      "cell_type": "code",
      "source": [
        "class ClassificationDataset(Dataset):\n",
        "    \n",
        "    def __init__(self, csv_path, title_tokens, abstract_tokens, low_limit, high_limit):\n",
        "        \n",
        "        self.data = pd.read_csv(csv_path).iloc[low_limit:high_limit].reset_index(drop=True)\n",
        "        self.title_tokens = title_tokens[low_limit:high_limit]\n",
        "        self.abstract_tokens = abstract_tokens[low_limit:high_limit]\n",
        "        \n",
        "    def __len__(self):\n",
        "        \n",
        "        return len(self.data)\n",
        "    \n",
        "    def __getitem__(self, idx):\n",
        "        \n",
        "        return (\n",
        "            self.title_tokens[idx],\n",
        "            self.abstract_tokens[idx],\n",
        "            self.data[self.data.columns[3]].iloc[idx],\n",
        "            self.data[self.data.columns[4]].iloc[idx],\n",
        "            self.data[self.data.columns[5]].iloc[idx],\n",
        "            self.data[self.data.columns[6]].iloc[idx],\n",
        "            self.data[self.data.columns[7]].iloc[idx],\n",
        "            self.data[self.data.columns[8]].iloc[idx],\n",
        "        )"
      ],
      "metadata": {
        "id": "bV7CZrwFp5s1"
      },
      "execution_count": null,
      "outputs": []
    },
    {
      "cell_type": "code",
      "source": [
        "train_data = ClassificationDataset(train_data_path, title_tokens, abstract_tokens, 0, int(len(train_data_csv) * 0.8))\n",
        "test_data = ClassificationDataset(train_data_path, title_tokens, abstract_tokens, int(len(train_data_csv) * 0.8), int(len(train_data_csv)))"
      ],
      "metadata": {
        "id": "R-3zO2cRp6Ls"
      },
      "execution_count": null,
      "outputs": []
    },
    {
      "cell_type": "code",
      "source": [
        "train_dataloader = DataLoader(train_data, shuffle=True, batch_size=64, drop_last=True)\n",
        "test_dataloader = DataLoader(test_data, shuffle=True, batch_size=64, drop_last=True)"
      ],
      "metadata": {
        "id": "LsvKLPMEp8KQ"
      },
      "execution_count": null,
      "outputs": []
    },
    {
      "cell_type": "markdown",
      "source": [
        "## custom classifier (DataMUX approach)"
      ],
      "metadata": {
        "id": "8p7sTh-60_k_"
      }
    },
    {
      "cell_type": "code",
      "source": [
        "class Classifier(nn.Module):\n",
        "    \n",
        "    def __init__(self, K):\n",
        "        super(Classifier, self).__init__()\n",
        "        \n",
        "        self.K = K\n",
        "        self.embedding = AutoModel.from_pretrained('xlm-roberta-base')\n",
        "        \n",
        "        for param in self.embedding.parameters():\n",
        "            param.requires_grad = False\n",
        "        \n",
        "        self.rnn_title = nn.LSTM(input_size=768, hidden_size=64, bidirectional=True, batch_first=True)\n",
        "        self.rnn_abstract = nn.LSTM(input_size=768, hidden_size=128, bidirectional=True, batch_first=True)\n",
        "        \n",
        "        self.multiplexing_layer = MultiplexingLayer(K, in_features=384)\n",
        "        self.base_network = nn.Linear(in_features=K*384, out_features=6)\n",
        "        self.demultiplexing_layer = DemultiplexingLayer(K, out_features=6)\n",
        "        \n",
        "        self.act = nn.Sigmoid()\n",
        "        \n",
        "    def forward(self, titles, abstracts):\n",
        "        # titles and abstracts are lists of tensors of shape (batch_size, sequence_length)\n",
        "        assert len(titles) == len(abstracts) == self.K\n",
        "        \n",
        "        title_embeddings = [self.embedding(t).last_hidden_state for t in titles]\n",
        "        abstract_embeddings = [self.embedding(a).last_hidden_state for a in abstracts]\n",
        "        \n",
        "        title_features = [self.rnn_title(e)[0][:, -1, :] for e in title_embeddings]\n",
        "        abstract_features = [self.rnn_abstract(e)[0][:, -1, :] for e in abstract_embeddings]\n",
        "        \n",
        "        combined_features = self.multiplexing_layer(title_features + abstract_features)\n",
        "        combined_features = self.base_network(combined_features)\n",
        "        output = self.demultiplexing_layer(combined_features)\n",
        "        \n",
        "        return tuple(self.act(o) for o in output)\n"
      ],
      "metadata": {
        "id": "x6YcjHey28b8"
      },
      "execution_count": null,
      "outputs": []
    },
    {
      "cell_type": "code",
      "source": [
        "class MultiplexingLayer(nn.Module):\n",
        "    def __init__(self, K, in_features):\n",
        "        super().__init__()\n",
        "        self.K = K\n",
        "        self.weights = nn.ModuleList([nn.Linear(in_features, in_features) for i in range(K)])\n",
        "        \n",
        "    def forward(self, inputs):\n",
        "        # inputs is a list of K tensors of shape (batch_size, hidden_size)\n",
        "        assert len(inputs) == self.K\n",
        "        \n",
        "        transformed_inputs = []\n",
        "        for i in range(self.K):\n",
        "            transformed_inputs.append(self.weights[i](inputs[i]))\n",
        "        \n",
        "        combined_input = torch.cat(transformed_inputs, dim=1)\n",
        "        \n",
        "        return combined_input\n",
        "\n",
        "\n",
        "class DemultiplexingLayer(nn.Module):\n",
        "    def __init__(self, K, out_features):\n",
        "        super().__init__()\n",
        "        self.K = K\n",
        "        self.weights = nn.ModuleList([nn.Linear(out_features, out_features) for i in range(K)])\n",
        "        \n",
        "    def forward(self, combined_output):\n",
        "        # Split the combined output into K parts\n",
        "        input_outputs = torch.split(combined_output, combined_output.shape[0] // self.K, dim=0)\n",
        "        \n",
        "        # Reconstruct the representations for each input\n",
        "        output = []\n",
        "        for i in range(self.K):\n",
        "            output.append(self.weights[i](input_outputs[i]))\n",
        "        \n",
        "        return tuple(output)"
      ],
      "metadata": {
        "id": "7VgslO_BYl2l"
      },
      "execution_count": null,
      "outputs": []
    },
    {
      "cell_type": "code",
      "source": [
        "# class Classifier(nn.Module):\n",
        "    \n",
        "#     def __init__(self, K):\n",
        "#         super(Classifier, self).__init__()\n",
        "        \n",
        "#         self.embedding = AutoModel.from_pretrained('xlm-roberta-base')\n",
        "        \n",
        "#         for param in self.embedding.parameters():\n",
        "#             param.requires_grad = False\n",
        "        \n",
        "#         self.rnn_title = nn.LSTM(input_size=768, hidden_size=64, bidirectional=True, batch_first=True)\n",
        "#         self.rnn_abstract = nn.LSTM(input_size=768, hidden_size=128, bidirectional=True, batch_first=True)\n",
        "        \n",
        "#         self.cs = nn.Linear(in_features=384, out_features=1)    # (2*(64+128) since bidirectional)\n",
        "#         self.phy = nn.Linear(in_features=384, out_features=1)\n",
        "#         self.math = nn.Linear(in_features=384, out_features=1)\n",
        "#         self.stat = nn.Linear(in_features=384, out_features=1)\n",
        "#         self.qb = nn.Linear(in_features=384, out_features=1)\n",
        "#         self.qf = nn.Linear(in_features=384, out_features=1)\n",
        "        \n",
        "#         self.act = nn.Sigmoid()\n",
        "        \n",
        "#     def forward(self, title, abstract):\n",
        "        \n",
        "#         title_embedding = self.embedding(title).last_hidden_state\n",
        "        \n",
        "#         abstract_embedding = self.embedding(abstract).last_hidden_state\n",
        "        \n",
        "#         title_features = self.rnn_title(title_embedding)[0][:, -1, :]\n",
        "#         abstract_features = self.rnn_abstract(abstract_embedding)[0][:, -1, :]\n",
        "        \n",
        "#         combined_features = torch.concat([title_features, abstract_features], dim=1)\n",
        "        \n",
        "#         cs_pred = self.act(self.cs(combined_features))\n",
        "#         phy_pred = self.act(self.phy(combined_features))\n",
        "#         math_pred = self.act(self.math(combined_features))\n",
        "#         stat_pred = self.act(self.stat(combined_features))\n",
        "#         qb_pred = self.act(self.qb(combined_features))\n",
        "#         qf_pred = self.act(self.qf(combined_features))\n",
        "        \n",
        "#         return (\n",
        "#             cs_pred,\n",
        "#             phy_pred,\n",
        "#             math_pred,\n",
        "#             stat_pred,\n",
        "#             qb_pred,\n",
        "#             qf_pred\n",
        "#         )"
      ],
      "metadata": {
        "id": "0CxqeFSsarmK"
      },
      "execution_count": null,
      "outputs": []
    },
    {
      "cell_type": "code",
      "source": [
        "K = 2  # number of inputs to process simultaneously\n",
        "model = Classifier(K).to(device)"
      ],
      "metadata": {
        "colab": {
          "base_uri": "https://localhost:8080/",
          "height": 118,
          "referenced_widgets": [
            "1efc6739dc3d447fa4a8497fe1c0da0e",
            "3c672983f891428ba156e30453c50d91",
            "b7fc0ca9fe524167bc6988e56aa3d218",
            "718bd2ae672e4b71af0148f5f27e8328",
            "7d26253ee81a4dcb968f0cd14ad4bdbd",
            "fc41a95e22fd4d5da398f9dab9b47d96",
            "e8cf7e0775a74e71875243240d51df9a",
            "985891ae33e54e14a0ca1c8c876a9b8b",
            "6f7ea8352345484e8a89284267a7a505",
            "2115f887d63e40d99b66d06934144a75",
            "766d871618ff450aadd1c154df217b23"
          ]
        },
        "id": "7iQ5sXtqqBA4",
        "outputId": "0a88f931-12f0-4d83-a616-c581cb4f0f20"
      },
      "execution_count": null,
      "outputs": [
        {
          "output_type": "display_data",
          "data": {
            "text/plain": [
              "Downloading pytorch_model.bin:   0%|          | 0.00/1.12G [00:00<?, ?B/s]"
            ],
            "application/vnd.jupyter.widget-view+json": {
              "version_major": 2,
              "version_minor": 0,
              "model_id": "1efc6739dc3d447fa4a8497fe1c0da0e"
            }
          },
          "metadata": {}
        },
        {
          "output_type": "stream",
          "name": "stderr",
          "text": [
            "Some weights of the model checkpoint at xlm-roberta-base were not used when initializing XLMRobertaModel: ['lm_head.dense.weight', 'lm_head.decoder.weight', 'lm_head.dense.bias', 'lm_head.layer_norm.weight', 'lm_head.layer_norm.bias', 'lm_head.bias']\n",
            "- This IS expected if you are initializing XLMRobertaModel from the checkpoint of a model trained on another task or with another architecture (e.g. initializing a BertForSequenceClassification model from a BertForPreTraining model).\n",
            "- This IS NOT expected if you are initializing XLMRobertaModel from the checkpoint of a model that you expect to be exactly identical (initializing a BertForSequenceClassification model from a BertForSequenceClassification model).\n"
          ]
        }
      ]
    },
    {
      "cell_type": "code",
      "source": [
        "loss_fn = nn.BCELoss()\n",
        "optimizer = torch.optim.Adam(model.parameters(), lr=0.001)"
      ],
      "metadata": {
        "id": "ZlU86AGlqDuA"
      },
      "execution_count": null,
      "outputs": []
    },
    {
      "cell_type": "markdown",
      "source": [
        "### train and test"
      ],
      "metadata": {
        "id": "C3oAO7A51Cy8"
      }
    },
    {
      "cell_type": "code",
      "source": [
        "epochs = 10\n",
        "\n",
        "for epoch in range(epochs):\n",
        "    \n",
        "    train_loss = 0\n",
        "    train_loss_cs = 0\n",
        "    train_loss_phy = 0\n",
        "    train_loss_math = 0\n",
        "    train_loss_stat = 0\n",
        "    train_loss_qb = 0\n",
        "    train_loss_qf = 0\n",
        "    \n",
        "    train_acc = 0\n",
        "    train_acc_cs = 0\n",
        "    train_acc_phy = 0\n",
        "    train_acc_math = 0\n",
        "    train_acc_stat = 0\n",
        "    train_acc_qb = 0\n",
        "    train_acc_qf = 0\n",
        "    \n",
        "    test_loss = 0\n",
        "    test_loss_cs = 0\n",
        "    test_loss_phy = 0\n",
        "    test_loss_math = 0\n",
        "    test_loss_stat = 0\n",
        "    test_loss_qb = 0\n",
        "    test_loss_qf = 0\n",
        "    \n",
        "    test_acc = 0\n",
        "    test_acc_cs = 0\n",
        "    test_acc_phy = 0\n",
        "    test_acc_math = 0\n",
        "    test_acc_stat = 0\n",
        "    test_acc_qb = 0\n",
        "    test_acc_qf = 0\n",
        "    \n",
        "    model.train()\n",
        "    \n",
        "    \n",
        "    for (index, (title, abstract, cs_true, phy_true, math_true, stat_true, qb_true, qf_true)) in enumerate(train_dataloader):\n",
        "        \n",
        "        optimizer.zero_grad()\n",
        "        title, abstract, cs_true, phy_true, math_true, stat_true, qb_true, qf_true = title.to(device), abstract.to(device), cs_true.to(device), phy_true.to(device), math_true.to(device), stat_true.to(device), qb_true.to(device), qf_true.to(device)\n",
        "        \n",
        "        cs_pred, phy_pred, math_pred, stat_pred, qb_pred, qf_pred = model(title, abstract)\n",
        "        \n",
        "        loss_cs = loss_fn(cs_pred, cs_true.float().unsqueeze(dim=1))\n",
        "        loss_phy = loss_fn(phy_pred, phy_true.float().unsqueeze(dim=1))\n",
        "        loss_math = loss_fn(math_pred, math_true.float().unsqueeze(dim=1))\n",
        "        loss_stat = loss_fn(stat_pred, stat_true.float().unsqueeze(dim=1))\n",
        "        loss_qb = loss_fn(qb_pred, qb_true.float().unsqueeze(dim=1))\n",
        "        loss_qf = loss_fn(qf_pred, qf_true.float().unsqueeze(dim=1))\n",
        "        \n",
        "        loss = loss_cs + loss_phy + loss_math + loss_stat + loss_qb + loss_qf\n",
        "        \n",
        "        train_loss_cs += loss_cs.item()\n",
        "        train_loss_phy += loss_phy.item()\n",
        "        train_loss_math += loss_math.item()\n",
        "        train_loss_stat += loss_stat.item()\n",
        "        train_loss_qb += loss_qb.item()\n",
        "        train_loss_qf += loss_qf.item()\n",
        "        train_loss += loss.item()\n",
        "        \n",
        "        loss.backward()\n",
        "        \n",
        "        optimizer.step()\n",
        "        \n",
        "        acc_cs = (cs_pred.round() == cs_true.float().unsqueeze(dim=1)).sum().item() / cs_pred.size(0)\n",
        "        acc_phy = (phy_pred.round() == phy_true.float().unsqueeze(dim=1)).sum().item() / phy_pred.size(0)\n",
        "        acc_math = (math_pred.round() == math_true.float().unsqueeze(dim=1)).sum().item() / math_pred.size(0)\n",
        "        acc_stat = (stat_pred.round() == stat_true.float().unsqueeze(dim=1)).sum().item() / stat_pred.size(0)\n",
        "        acc_qb = (qb_pred.round() == qb_true.float().unsqueeze(dim=1)).sum().item() / qb_pred.size(0)\n",
        "        acc_qf = (qf_pred.round() == qf_true.float().unsqueeze(dim=1)).sum().item() / qf_pred.size(0)\n",
        "        \n",
        "        acc = (acc_cs + acc_phy + acc_math + acc_stat + acc_qb + acc_qf) / 6\n",
        "        \n",
        "        train_acc += acc\n",
        "        train_acc_cs += acc_cs\n",
        "        train_acc_phy += acc_phy\n",
        "        train_acc_math += acc_math\n",
        "        train_acc_stat += acc_stat\n",
        "        train_acc_qb += acc_qb\n",
        "        train_acc_qf += acc_qf\n",
        "        \n",
        "        print(\"Epoch {}: Batch: {}/{} || Loss CS: {:.4f} || Loss Phy: {:.4f} || Loss Math: {:.4f} || Loss Stat: {:.4f} || Loss QB: {:.4f} || Loss QF: {:.4f} || Loss Total: {:.4f} || Acc CS: {:.4f} || Acc Phy: {:.4f} || Acc Math: {:.4f} || Acc Stat: {:.4f} || Acc QB: {:.4f} || Acc QF: {:.4f} || Acc Total: {:.4f}\".format(\n",
        "            epoch+1,\n",
        "            index,\n",
        "            len(train_dataloader),\n",
        "            loss_cs,\n",
        "            loss_phy,\n",
        "            loss_math,\n",
        "            loss_stat,\n",
        "            loss_qb,\n",
        "            loss_qf,\n",
        "            loss,\n",
        "            acc_cs,\n",
        "            acc_phy,\n",
        "            acc_math,\n",
        "            acc_stat,\n",
        "            acc_qb,\n",
        "            acc_qf,\n",
        "            acc\n",
        "        ), end='\\r')\n",
        "        \n",
        "    print(\"Epoch Train {}: Loss CS: {:.4f} || Loss Phy: {:.4f} || Loss Math: {:.4f} || Loss Stat: {:.4f} || Loss QB: {:.4f} || Loss QF: {:.4f} || Loss Total: {:.4f} || Acc CS: {:.4f} || Acc Phy: {:.4f} || Acc Math: {:.4f} || Acc Stat: {:.4f} || Acc QB: {:.4f} || Acc QF: {:.4f} || Acc Total: {:.4f}\".format(\n",
        "            epoch+1,\n",
        "            train_loss_cs / len(train_dataloader),\n",
        "            train_loss_phy / len(train_dataloader),\n",
        "            train_loss_math / len(train_dataloader),\n",
        "            train_loss_stat / len(train_dataloader),\n",
        "            train_loss_qb / len(train_dataloader),\n",
        "            train_loss_qf / len(train_dataloader),\n",
        "            train_loss / len(train_dataloader),\n",
        "            train_acc_cs / len(train_dataloader),\n",
        "            train_acc_phy / len(train_dataloader),\n",
        "            train_acc_math / len(train_dataloader),\n",
        "            train_acc_stat / len(train_dataloader),\n",
        "            train_acc_qb / len(train_dataloader),\n",
        "            train_acc_qf / len(train_dataloader),\n",
        "            train_acc / len(train_dataloader)\n",
        "        ))\n",
        "    \n",
        "    model.eval()\n",
        "    for title, abstract, cs_true, phy_true, math_true, stat_true, qb_true, qf_true in tqdm(test_dataloader):\n",
        "        \n",
        "        with torch.no_grad():\n",
        "            title, abstract, cs_true, phy_true, math_true, stat_true, qb_true, qf_true = title.to(device), abstract.to(device), cs_true.to(device), phy_true.to(device), math_true.to(device), stat_true.to(device), qb_true.to(device), qf_true.to(device)\n",
        "        \n",
        "            cs_pred, phy_pred, math_pred, stat_pred, qb_pred, qf_pred = model(title, abstract)\n",
        "            \n",
        "            loss_cs = loss_fn(cs_pred, cs_true.float().unsqueeze(dim=1))\n",
        "            loss_phy = loss_fn(phy_pred, phy_true.float().unsqueeze(dim=1))\n",
        "            loss_math = loss_fn(math_pred, math_true.float().unsqueeze(dim=1))\n",
        "            loss_stat = loss_fn(stat_pred, stat_true.float().unsqueeze(dim=1))\n",
        "            loss_qb = loss_fn(qb_pred, qb_true.float().unsqueeze(dim=1))\n",
        "            loss_qf = loss_fn(qf_pred, qf_true.float().unsqueeze(dim=1))\n",
        "        \n",
        "            loss = loss_cs + loss_phy + loss_math + loss_stat + loss_qb + loss_qf\n",
        "        \n",
        "        test_loss_cs += loss_cs.item()\n",
        "        test_loss_phy += loss_phy.item()\n",
        "        test_loss_math += loss_math.item()\n",
        "        test_loss_stat += loss_stat.item()\n",
        "        test_loss_qb += loss_qb.item()\n",
        "        test_loss_qf += loss_qf.item()\n",
        "        test_loss += loss.item()\n",
        "        \n",
        "        acc_cs = (cs_pred.round() == cs_true.float().unsqueeze(dim=1)).sum().item() / cs_pred.size(0)\n",
        "        acc_phy = (phy_pred.round() == phy_true.float().unsqueeze(dim=1)).sum().item() / phy_pred.size(0)\n",
        "        acc_math = (math_pred.round() == math_true.float().unsqueeze(dim=1)).sum().item() / math_pred.size(0)\n",
        "        acc_stat = (stat_pred.round() == stat_true.float().unsqueeze(dim=1)).sum().item() / stat_pred.size(0)\n",
        "        acc_qb = (qb_pred.round() == qb_true.float().unsqueeze(dim=1)).sum().item() / qb_pred.size(0)\n",
        "        acc_qf = (qf_pred.round() == qf_true.float().unsqueeze(dim=1)).sum().item() / qf_pred.size(0)\n",
        "        \n",
        "        acc = (acc_cs + acc_phy + acc_math + acc_stat + acc_qb + acc_qf) / 6\n",
        "        \n",
        "        test_acc += acc\n",
        "        test_acc_cs += acc_cs\n",
        "        test_acc_phy += acc_phy\n",
        "        test_acc_math += acc_math\n",
        "        test_acc_stat += acc_stat\n",
        "        test_acc_qb += acc_qb\n",
        "        test_acc_qf += acc_qf\n",
        "        \n",
        "    print(\"Epoch Test {}: Loss CS: {:.4f} || Loss Phy: {:.4f} || Loss Math: {:.4f} || Loss Stat: {:.4f} || Loss QB: {:.4f} || Loss QF: {:.4f} || Loss Total: {:.4f} || Acc CS: {:.4f} || Acc Phy: {:.4f} || Acc Math: {:.4f} || Acc Stat: {:.4f} || Acc QB: {:.4f} || Acc QF: {:.4f} || Acc Total: {:.4f}\".format(\n",
        "            epoch+1,\n",
        "            test_loss_cs / len(test_dataloader),\n",
        "            test_loss_phy / len(test_dataloader),\n",
        "            test_loss_math / len(test_dataloader),\n",
        "            test_loss_stat / len(test_dataloader),\n",
        "            test_loss_qb / len(test_dataloader),\n",
        "            test_loss_qf / len(test_dataloader),\n",
        "            test_loss / len(test_dataloader),\n",
        "            test_acc_cs / len(test_dataloader),\n",
        "            test_acc_phy / len(test_dataloader),\n",
        "            test_acc_math / len(test_dataloader),\n",
        "            test_acc_stat / len(test_dataloader),\n",
        "            test_acc_qb / len(test_dataloader),\n",
        "            test_acc_qf / len(test_dataloader),\n",
        "            test_acc / len(test_dataloader)\n",
        "        ))"
      ],
      "metadata": {
        "colab": {
          "base_uri": "https://localhost:8080/"
        },
        "id": "e07FG2waqME-",
        "outputId": "19aaf363-ab96-48b8-f483-f551b603f020"
      },
      "execution_count": null,
      "outputs": [
        {
          "output_type": "stream",
          "name": "stdout",
          "text": [
            "Epoch Train 1: Loss CS: 0.6243 || Loss Phy: 0.5562 || Loss Math: 0.5233 || Loss Stat: 0.5490 || Loss QB: 0.1401 || Loss QF: 0.0759 || Loss Total: 2.4688 || Acc CS: 0.6589 || Acc Phy: 0.7334 || Acc Math: 0.7551 || Acc Stat: 0.7479 || Acc QB: 0.9676 || Acc QF: 0.9882 || Acc Total: 0.8085\n"
          ]
        },
        {
          "output_type": "stream",
          "name": "stderr",
          "text": [
            "100%|██████████| 65/65 [02:09<00:00,  1.99s/it]\n"
          ]
        },
        {
          "output_type": "stream",
          "name": "stdout",
          "text": [
            "Epoch Test 1: Loss CS: 0.5848 || Loss Phy: 0.5195 || Loss Math: 0.5700 || Loss Stat: 0.5726 || Loss QB: 0.1105 || Loss QF: 0.0689 || Loss Total: 2.4263 || Acc CS: 0.6659 || Acc Phy: 0.7623 || Acc Math: 0.6815 || Acc Stat: 0.7462 || Acc QB: 0.9762 || Acc QF: 0.9870 || Acc Total: 0.8032\n",
            "Epoch Train 2: Loss CS: 0.5143 || Loss Phy: 0.4409 || Loss Math: 0.4735 || Loss Stat: 0.5062 || Loss QB: 0.1239 || Loss QF: 0.0630 || Loss Total: 2.1219 || Acc CS: 0.7465 || Acc Phy: 0.8092 || Acc Math: 0.7878 || Acc Stat: 0.7449 || Acc QB: 0.9709 || Acc QF: 0.9884 || Acc Total: 0.8413\n"
          ]
        },
        {
          "output_type": "stream",
          "name": "stderr",
          "text": [
            "100%|██████████| 65/65 [02:08<00:00,  1.98s/it]\n"
          ]
        },
        {
          "output_type": "stream",
          "name": "stdout",
          "text": [
            "Epoch Test 2: Loss CS: 0.5621 || Loss Phy: 0.4953 || Loss Math: 0.5571 || Loss Stat: 0.5275 || Loss QB: 0.1081 || Loss QF: 0.0684 || Loss Total: 2.3184 || Acc CS: 0.6930 || Acc Phy: 0.7781 || Acc Math: 0.6974 || Acc Stat: 0.7478 || Acc QB: 0.9762 || Acc QF: 0.9873 || Acc Total: 0.8133\n",
            "Epoch Train 3: Loss CS: 0.4654 || Loss Phy: 0.3847 || Loss Math: 0.4394 || Loss Stat: 0.4740 || Loss QB: 0.1188 || Loss QF: 0.0614 || Loss Total: 1.9438 || Acc CS: 0.7771 || Acc Phy: 0.8457 || Acc Math: 0.8036 || Acc Stat: 0.7545 || Acc QB: 0.9710 || Acc QF: 0.9884 || Acc Total: 0.8567\n"
          ]
        },
        {
          "output_type": "stream",
          "name": "stderr",
          "text": [
            "100%|██████████| 65/65 [02:09<00:00,  1.99s/it]\n"
          ]
        },
        {
          "output_type": "stream",
          "name": "stdout",
          "text": [
            "Epoch Test 3: Loss CS: 0.6243 || Loss Phy: 0.5200 || Loss Math: 0.4947 || Loss Stat: 0.5714 || Loss QB: 0.1028 || Loss QF: 0.0672 || Loss Total: 2.3804 || Acc CS: 0.6798 || Acc Phy: 0.7288 || Acc Math: 0.7728 || Acc Stat: 0.7517 || Acc QB: 0.9767 || Acc QF: 0.9873 || Acc Total: 0.8162\n",
            "Epoch Train 4: Loss CS: 0.4668 || Loss Phy: 0.3909 || Loss Math: 0.4345 || Loss Stat: 0.4721 || Loss QB: 0.1156 || Loss QF: 0.0610 || Loss Total: 1.9409 || Acc CS: 0.7793 || Acc Phy: 0.8378 || Acc Math: 0.8089 || Acc Stat: 0.7657 || Acc QB: 0.9709 || Acc QF: 0.9884 || Acc Total: 0.8585\n"
          ]
        },
        {
          "output_type": "stream",
          "name": "stderr",
          "text": [
            "100%|██████████| 65/65 [02:08<00:00,  1.98s/it]\n"
          ]
        },
        {
          "output_type": "stream",
          "name": "stdout",
          "text": [
            "Epoch Test 4: Loss CS: 0.4934 || Loss Phy: 0.4387 || Loss Math: 0.4593 || Loss Stat: 0.5270 || Loss QB: 0.1032 || Loss QF: 0.0679 || Loss Total: 2.0896 || Acc CS: 0.7680 || Acc Phy: 0.8127 || Acc Math: 0.7764 || Acc Stat: 0.7575 || Acc QB: 0.9762 || Acc QF: 0.9870 || Acc Total: 0.8463\n",
            "Epoch Train 5: Loss CS: 0.4442 || Loss Phy: 0.3689 || Loss Math: 0.4157 || Loss Stat: 0.4535 || Loss QB: 0.1119 || Loss QF: 0.0600 || Loss Total: 1.8542 || Acc CS: 0.7910 || Acc Phy: 0.8480 || Acc Math: 0.8178 || Acc Stat: 0.7692 || Acc QB: 0.9710 || Acc QF: 0.9884 || Acc Total: 0.8642\n"
          ]
        },
        {
          "output_type": "stream",
          "name": "stderr",
          "text": [
            "100%|██████████| 65/65 [02:08<00:00,  1.98s/it]\n"
          ]
        },
        {
          "output_type": "stream",
          "name": "stdout",
          "text": [
            "Epoch Test 5: Loss CS: 0.5037 || Loss Phy: 0.4582 || Loss Math: 0.5250 || Loss Stat: 0.5343 || Loss QB: 0.1048 || Loss QF: 0.0675 || Loss Total: 2.1935 || Acc CS: 0.7279 || Acc Phy: 0.8101 || Acc Math: 0.7522 || Acc Stat: 0.7577 || Acc QB: 0.9760 || Acc QF: 0.9870 || Acc Total: 0.8351\n",
            "Epoch Train 6: Loss CS: 0.4434 || Loss Phy: 0.3567 || Loss Math: 0.4110 || Loss Stat: 0.4485 || Loss QB: 0.1072 || Loss QF: 0.0582 || Loss Total: 1.8250 || Acc CS: 0.7932 || Acc Phy: 0.8541 || Acc Math: 0.8183 || Acc Stat: 0.7712 || Acc QB: 0.9711 || Acc QF: 0.9884 || Acc Total: 0.8660\n"
          ]
        },
        {
          "output_type": "stream",
          "name": "stderr",
          "text": [
            "100%|██████████| 65/65 [02:08<00:00,  1.98s/it]\n"
          ]
        },
        {
          "output_type": "stream",
          "name": "stdout",
          "text": [
            "Epoch Test 6: Loss CS: 0.4927 || Loss Phy: 0.4455 || Loss Math: 0.4664 || Loss Stat: 0.5404 || Loss QB: 0.1031 || Loss QF: 0.0684 || Loss Total: 2.1165 || Acc CS: 0.7620 || Acc Phy: 0.8058 || Acc Math: 0.7918 || Acc Stat: 0.7601 || Acc QB: 0.9764 || Acc QF: 0.9870 || Acc Total: 0.8472\n",
            "Epoch Train 7: Loss CS: 0.4309 || Loss Phy: 0.3395 || Loss Math: 0.3946 || Loss Stat: 0.4373 || Loss QB: 0.1053 || Loss QF: 0.0579 || Loss Total: 1.7656 || Acc CS: 0.8006 || Acc Phy: 0.8647 || Acc Math: 0.8295 || Acc Stat: 0.7769 || Acc QB: 0.9714 || Acc QF: 0.9884 || Acc Total: 0.8719\n"
          ]
        },
        {
          "output_type": "stream",
          "name": "stderr",
          "text": [
            "100%|██████████| 65/65 [02:09<00:00,  1.99s/it]\n"
          ]
        },
        {
          "output_type": "stream",
          "name": "stdout",
          "text": [
            "Epoch Test 7: Loss CS: 0.5185 || Loss Phy: 0.4462 || Loss Math: 0.4566 || Loss Stat: 0.5843 || Loss QB: 0.1005 || Loss QF: 0.0661 || Loss Total: 2.1722 || Acc CS: 0.7310 || Acc Phy: 0.8127 || Acc Math: 0.7837 || Acc Stat: 0.7572 || Acc QB: 0.9764 || Acc QF: 0.9870 || Acc Total: 0.8413\n",
            "Epoch Train 8: Loss CS: 0.4302 || Loss Phy: 0.3395 || Loss Math: 0.3811 || Loss Stat: 0.4366 || Loss QB: 0.1039 || Loss QF: 0.0563 || Loss Total: 1.7477 || Acc CS: 0.7996 || Acc Phy: 0.8660 || Acc Math: 0.8358 || Acc Stat: 0.7781 || Acc QB: 0.9713 || Acc QF: 0.9884 || Acc Total: 0.8732\n"
          ]
        },
        {
          "output_type": "stream",
          "name": "stderr",
          "text": [
            "100%|██████████| 65/65 [02:08<00:00,  1.98s/it]\n"
          ]
        },
        {
          "output_type": "stream",
          "name": "stdout",
          "text": [
            "Epoch Test 8: Loss CS: 0.5084 || Loss Phy: 0.4459 || Loss Math: 0.4892 || Loss Stat: 0.5382 || Loss QB: 0.1005 || Loss QF: 0.0621 || Loss Total: 2.1442 || Acc CS: 0.7526 || Acc Phy: 0.8075 || Acc Math: 0.7738 || Acc Stat: 0.7603 || Acc QB: 0.9755 || Acc QF: 0.9870 || Acc Total: 0.8428\n",
            "Epoch Train 9: Loss CS: 0.4189 || Loss Phy: 0.3251 || Loss Math: 0.3761 || Loss Stat: 0.4299 || Loss QB: 0.1019 || Loss QF: 0.0534 || Loss Total: 1.7053 || Acc CS: 0.8058 || Acc Phy: 0.8707 || Acc Math: 0.8364 || Acc Stat: 0.7805 || Acc QB: 0.9714 || Acc QF: 0.9884 || Acc Total: 0.8755\n"
          ]
        },
        {
          "output_type": "stream",
          "name": "stderr",
          "text": [
            "100%|██████████| 65/65 [02:08<00:00,  1.98s/it]\n"
          ]
        },
        {
          "output_type": "stream",
          "name": "stdout",
          "text": [
            "Epoch Test 9: Loss CS: 0.4900 || Loss Phy: 0.4381 || Loss Math: 0.4746 || Loss Stat: 0.5498 || Loss QB: 0.0998 || Loss QF: 0.0619 || Loss Total: 2.1142 || Acc CS: 0.7529 || Acc Phy: 0.8183 || Acc Math: 0.7798 || Acc Stat: 0.7625 || Acc QB: 0.9752 || Acc QF: 0.9873 || Acc Total: 0.8460\n",
            "Epoch Train 10: Loss CS: 0.4213 || Loss Phy: 0.3208 || Loss Math: 0.3654 || Loss Stat: 0.4281 || Loss QB: 0.1009 || Loss QF: 0.0523 || Loss Total: 1.6888 || Acc CS: 0.8030 || Acc Phy: 0.8737 || Acc Math: 0.8451 || Acc Stat: 0.7805 || Acc QB: 0.9715 || Acc QF: 0.9884 || Acc Total: 0.8770\n"
          ]
        },
        {
          "output_type": "stream",
          "name": "stderr",
          "text": [
            "100%|██████████| 65/65 [02:09<00:00,  1.99s/it]"
          ]
        },
        {
          "output_type": "stream",
          "name": "stdout",
          "text": [
            "Epoch Test 10: Loss CS: 0.4828 || Loss Phy: 0.4469 || Loss Math: 0.4488 || Loss Stat: 0.5265 || Loss QB: 0.0976 || Loss QF: 0.0617 || Loss Total: 2.0643 || Acc CS: 0.7675 || Acc Phy: 0.8014 || Acc Math: 0.7959 || Acc Stat: 0.7649 || Acc QB: 0.9762 || Acc QF: 0.9873 || Acc Total: 0.8489\n"
          ]
        },
        {
          "output_type": "stream",
          "name": "stderr",
          "text": [
            "\n"
          ]
        }
      ]
    },
    {
      "cell_type": "code",
      "source": [
        "train_acc = [80.85, 84.13, 85.67, 85.85, 86.42, 86.60, 87.19, 87.32, 87.55, 87.70]\n",
        "test_acc = [80.32, 81.33, 81.62, 84.43, 83.51, 84.62, 84.13, 84.28, 84.60, 85.89]\n",
        "epochs = [i for i in range(1,11)]"
      ],
      "metadata": {
        "id": "fD-uiUO_q2sZ"
      },
      "execution_count": 13,
      "outputs": []
    },
    {
      "cell_type": "code",
      "source": [
        "import matplotlib.pyplot as plt\n",
        "plt.plot(epochs, train_acc, 'o-', label='Train')\n",
        "plt.plot(epochs, test_acc,'o-', label='Test')\n",
        "plt.legend()\n",
        "plt.xlabel('Epoch')\n",
        "plt.ylabel('Accuracy (%)')\n",
        "plt.title('Train v/s Test accuracy (Multi label classification)')\n",
        "plt.show()"
      ],
      "metadata": {
        "colab": {
          "base_uri": "https://localhost:8080/",
          "height": 472
        },
        "id": "dJXelAUL5SMZ",
        "outputId": "ace5bf35-58ab-4806-f5e8-d3f2a68ee4e0"
      },
      "execution_count": 14,
      "outputs": [
        {
          "output_type": "display_data",
          "data": {
            "text/plain": [
              "<Figure size 640x480 with 1 Axes>"
            ],
            "image/png": "[encoded data removed]"
          },
          "metadata": {}
        }
      ]
    },
    {
      "cell_type": "code",
      "source": [],
      "metadata": {
        "id": "JM2MGi8s5uvf"
      },
      "execution_count": null,
      "outputs": []
    }
  ]
}